{
 "cells": [
  {
   "cell_type": "markdown",
   "metadata": {},
   "source": [
    "## DATA MINING GROUP PROJECT\n",
    "\n",
    "The Impact of COVID-19: An analysis on the Unemployment and Underemployment Rates of Hong Kong Special Administrative Region (HKSAR)\n",
    "\n",
    "Group Members: <br>\n",
    "\n",
    "Ric Russel Marinduque, <br>\n",
    "Ma. Gracia Corazon Sicat<br>"
   ]
  },
  {
   "cell_type": "markdown",
   "metadata": {},
   "source": [
    "## Source\n",
    "Statistics on labour force, unemployment and underemployment: https://data.gov.hk/en-data/dataset/hk-censtatd-tablechart-statistics-on-labour-force-unemployment-and-underemployment\n",
    "\n",
    "### DATA SET: \n",
    "1. Unemployment Rate by Industry \n",
    "2. Underemployment Rate by Industry"
   ]
  },
  {
   "cell_type": "markdown",
   "metadata": {},
   "source": [
    "## METHODOLOGY\n",
    "\n",
    "1. [Reading and Cleaning the Data](#1) <br>\n",
    "2. [Understanding the Data](#2) <br>\n",
    "3. [Data Transformation](#3) <br>\n",
    "4. [Data and Pattern Analysis](#4) <br>\n",
    "    a. [What is the MONTH that has the highest unemployment and underemployment rate? (peak month)](#4.1)<br>\n",
    "    b. [What is the highly affected industry by Covid 19?](#4.2) <br>\n",
    "5. [Clustering Algorithms](#5) <br>\n",
    "    a. [K-means Clustering](#5.1)<br>\n",
    "    b. [Agglomerative Clustering](#5.2) <br>\n",
    "6. [Findings](#6) <br>\n"
   ]
  },
  {
   "cell_type": "code",
   "execution_count": 54,
   "metadata": {},
   "outputs": [],
   "source": [
    "#importing libraries\n",
    "\n",
    "import pandas as pd\n",
    "from pandas_profiling import ProfileReport\n",
    "import numpy as np\n",
    "\n",
    "import seaborn as sns\n",
    "import matplotlib.pyplot as plt\n",
    "%matplotlib inline \n",
    "from sklearn.cluster import KMeans\n",
    "from sklearn.cluster import AgglomerativeClustering\n",
    "from sklearn.metrics import silhouette_score\n",
    "import scipy.cluster.hierarchy as shc\n",
    "from sklearn.preprocessing import StandardScaler\n",
    "\n",
    "import re\n",
    "from re import search"
   ]
  },
  {
   "cell_type": "markdown",
   "metadata": {},
   "source": [
    "<a id=\"1\"></a> <br>\n",
    "### 1. Reading and Cleaning the Data "
   ]
  },
  {
   "cell_type": "code",
   "execution_count": 4,
   "metadata": {},
   "outputs": [],
   "source": [
    "#read two data sets and dropping ALL rows and columns with NaN values.\n",
    "\n",
    "under_df = pd.read_excel('Underemployment Rate by Industry.xls',skiprows=5, skipfooter = 10, header = (0)).dropna(how='all').dropna(axis=1,how=\"all\")\n",
    "\n",
    "unem_df = pd.read_excel('Unemployment Rate by Previous Industry.xls', skiprows=3, skipfooter = 7, header = (0)).dropna(how='all').dropna(axis=1,how=\"all\")"
   ]
  },
  {
   "cell_type": "code",
   "execution_count": 5,
   "metadata": {},
   "outputs": [
    {
     "data": {
      "text/html": [
       "<div>\n",
       "<style scoped>\n",
       "    .dataframe tbody tr th:only-of-type {\n",
       "        vertical-align: middle;\n",
       "    }\n",
       "\n",
       "    .dataframe tbody tr th {\n",
       "        vertical-align: top;\n",
       "    }\n",
       "\n",
       "    .dataframe thead th {\n",
       "        text-align: right;\n",
       "    }\n",
       "</style>\n",
       "<table border=\"1\" class=\"dataframe\">\n",
       "  <thead>\n",
       "    <tr style=\"text-align: right;\">\n",
       "      <th></th>\n",
       "      <th>Unnamed: 0</th>\n",
       "      <th>Manufacturing</th>\n",
       "      <th>Construction</th>\n",
       "      <th>Import/export trade and wholesale</th>\n",
       "      <th>Retail, accommodation and food services</th>\n",
       "      <th>Transportation, storage, postal and courier services, information and communications</th>\n",
       "      <th>Financing, insurance, real estate, professional and business services</th>\n",
       "      <th>Public administration, social and personal services</th>\n",
       "      <th>Other industries</th>\n",
       "      <th>All industries</th>\n",
       "    </tr>\n",
       "  </thead>\n",
       "  <tbody>\n",
       "    <tr>\n",
       "      <th>0</th>\n",
       "      <td>2008</td>\n",
       "      <td>1.5</td>\n",
       "      <td>10.6</td>\n",
       "      <td>0.4</td>\n",
       "      <td>1.6</td>\n",
       "      <td>2.1</td>\n",
       "      <td>0.6</td>\n",
       "      <td>1.1</td>\n",
       "      <td>1.4</td>\n",
       "      <td>1.9</td>\n",
       "    </tr>\n",
       "    <tr>\n",
       "      <th>1</th>\n",
       "      <td>2009</td>\n",
       "      <td>1.7</td>\n",
       "      <td>12.0</td>\n",
       "      <td>0.6</td>\n",
       "      <td>2.1</td>\n",
       "      <td>2.6</td>\n",
       "      <td>0.9</td>\n",
       "      <td>1.5</td>\n",
       "      <td>1.2</td>\n",
       "      <td>2.3</td>\n",
       "    </tr>\n",
       "    <tr>\n",
       "      <th>2</th>\n",
       "      <td>2010</td>\n",
       "      <td>1.5</td>\n",
       "      <td>9.5</td>\n",
       "      <td>0.5</td>\n",
       "      <td>2.0</td>\n",
       "      <td>2.2</td>\n",
       "      <td>1.0</td>\n",
       "      <td>1.4</td>\n",
       "      <td>##</td>\n",
       "      <td>2.0</td>\n",
       "    </tr>\n",
       "    <tr>\n",
       "      <th>3</th>\n",
       "      <td>2011</td>\n",
       "      <td>1.3</td>\n",
       "      <td>7.6</td>\n",
       "      <td>0.4</td>\n",
       "      <td>1.7</td>\n",
       "      <td>2.2</td>\n",
       "      <td>0.7</td>\n",
       "      <td>1.2</td>\n",
       "      <td>1.1</td>\n",
       "      <td>1.7</td>\n",
       "    </tr>\n",
       "    <tr>\n",
       "      <th>4</th>\n",
       "      <td>2012</td>\n",
       "      <td>1</td>\n",
       "      <td>7.9</td>\n",
       "      <td>0.3</td>\n",
       "      <td>1.5</td>\n",
       "      <td>1.7</td>\n",
       "      <td>0.6</td>\n",
       "      <td>0.9</td>\n",
       "      <td>##</td>\n",
       "      <td>1.5</td>\n",
       "    </tr>\n",
       "  </tbody>\n",
       "</table>\n",
       "</div>"
      ],
      "text/plain": [
       "  Unnamed: 0 Manufacturing  Construction Import/export trade and wholesale  \\\n",
       "0       2008           1.5          10.6                               0.4   \n",
       "1       2009           1.7          12.0                               0.6   \n",
       "2       2010           1.5           9.5                               0.5   \n",
       "3       2011           1.3           7.6                               0.4   \n",
       "4       2012             1           7.9                               0.3   \n",
       "\n",
       "   Retail, accommodation and food services  \\\n",
       "0                                      1.6   \n",
       "1                                      2.1   \n",
       "2                                      2.0   \n",
       "3                                      1.7   \n",
       "4                                      1.5   \n",
       "\n",
       "   Transportation, storage, postal and courier services, information and communications  \\\n",
       "0                                                2.1                                      \n",
       "1                                                2.6                                      \n",
       "2                                                2.2                                      \n",
       "3                                                2.2                                      \n",
       "4                                                1.7                                      \n",
       "\n",
       "   Financing, insurance, real estate, professional and business services  \\\n",
       "0                                                0.6                       \n",
       "1                                                0.9                       \n",
       "2                                                1.0                       \n",
       "3                                                0.7                       \n",
       "4                                                0.6                       \n",
       "\n",
       "   Public administration, social and personal services Other industries  \\\n",
       "0                                                1.1                1.4   \n",
       "1                                                1.5                1.2   \n",
       "2                                                1.4                 ##   \n",
       "3                                                1.2                1.1   \n",
       "4                                                0.9                 ##   \n",
       "\n",
       "   All industries  \n",
       "0             1.9  \n",
       "1             2.3  \n",
       "2             2.0  \n",
       "3             1.7  \n",
       "4             1.5  "
      ]
     },
     "execution_count": 5,
     "metadata": {},
     "output_type": "execute_result"
    }
   ],
   "source": [
    "under_df.head()"
   ]
  },
  {
   "cell_type": "code",
   "execution_count": 6,
   "metadata": {},
   "outputs": [
    {
     "data": {
      "text/html": [
       "<div>\n",
       "<style scoped>\n",
       "    .dataframe tbody tr th:only-of-type {\n",
       "        vertical-align: middle;\n",
       "    }\n",
       "\n",
       "    .dataframe tbody tr th {\n",
       "        vertical-align: top;\n",
       "    }\n",
       "\n",
       "    .dataframe thead th {\n",
       "        text-align: right;\n",
       "    }\n",
       "</style>\n",
       "<table border=\"1\" class=\"dataframe\">\n",
       "  <thead>\n",
       "    <tr style=\"text-align: right;\">\n",
       "      <th></th>\n",
       "      <th>Unnamed: 0</th>\n",
       "      <th>Manufacturing</th>\n",
       "      <th>Construction</th>\n",
       "      <th>Import/export trade and wholesale</th>\n",
       "      <th>Retail, accommodation and food services</th>\n",
       "      <th>Transportation, storage, postal and courier services, information and communications</th>\n",
       "      <th>Financing, insurance, real estate, professional and business services</th>\n",
       "      <th>Public administration, social and personal services</th>\n",
       "      <th>Other industries</th>\n",
       "      <th>All industries</th>\n",
       "    </tr>\n",
       "  </thead>\n",
       "  <tbody>\n",
       "    <tr>\n",
       "      <th>0</th>\n",
       "      <td>2008</td>\n",
       "      <td>4.5</td>\n",
       "      <td>6.7</td>\n",
       "      <td>2.6</td>\n",
       "      <td>5.0</td>\n",
       "      <td>3.0</td>\n",
       "      <td>2.4</td>\n",
       "      <td>1.3</td>\n",
       "      <td>1.3</td>\n",
       "      <td>3.5</td>\n",
       "    </tr>\n",
       "    <tr>\n",
       "      <th>1</th>\n",
       "      <td>2009</td>\n",
       "      <td>6.2</td>\n",
       "      <td>10.0</td>\n",
       "      <td>4.6</td>\n",
       "      <td>7.0</td>\n",
       "      <td>4.8</td>\n",
       "      <td>3.8</td>\n",
       "      <td>2.1</td>\n",
       "      <td>2.2</td>\n",
       "      <td>5.3</td>\n",
       "    </tr>\n",
       "    <tr>\n",
       "      <th>2</th>\n",
       "      <td>2010</td>\n",
       "      <td>4.7</td>\n",
       "      <td>6.9</td>\n",
       "      <td>4.1</td>\n",
       "      <td>5.8</td>\n",
       "      <td>3.8</td>\n",
       "      <td>3.4</td>\n",
       "      <td>1.7</td>\n",
       "      <td>1.9</td>\n",
       "      <td>4.3</td>\n",
       "    </tr>\n",
       "    <tr>\n",
       "      <th>3</th>\n",
       "      <td>2011</td>\n",
       "      <td>4.0</td>\n",
       "      <td>5.6</td>\n",
       "      <td>3.1</td>\n",
       "      <td>4.6</td>\n",
       "      <td>3.0</td>\n",
       "      <td>2.6</td>\n",
       "      <td>1.5</td>\n",
       "      <td>1.6</td>\n",
       "      <td>3.4</td>\n",
       "    </tr>\n",
       "    <tr>\n",
       "      <th>4</th>\n",
       "      <td>2012</td>\n",
       "      <td>4.0</td>\n",
       "      <td>4.9</td>\n",
       "      <td>2.8</td>\n",
       "      <td>4.4</td>\n",
       "      <td>2.7</td>\n",
       "      <td>2.6</td>\n",
       "      <td>1.4</td>\n",
       "      <td>1.2</td>\n",
       "      <td>3.3</td>\n",
       "    </tr>\n",
       "  </tbody>\n",
       "</table>\n",
       "</div>"
      ],
      "text/plain": [
       "  Unnamed: 0  Manufacturing   Construction   \\\n",
       "0       2008             4.5            6.7   \n",
       "1       2009             6.2           10.0   \n",
       "2       2010             4.7            6.9   \n",
       "3       2011             4.0            5.6   \n",
       "4       2012             4.0            4.9   \n",
       "\n",
       "   Import/export trade and wholesale   \\\n",
       "0                                 2.6   \n",
       "1                                 4.6   \n",
       "2                                 4.1   \n",
       "3                                 3.1   \n",
       "4                                 2.8   \n",
       "\n",
       "   Retail, accommodation and food services   \\\n",
       "0                                       5.0   \n",
       "1                                       7.0   \n",
       "2                                       5.8   \n",
       "3                                       4.6   \n",
       "4                                       4.4   \n",
       "\n",
       "   Transportation, storage, postal and courier services, information and communications   \\\n",
       "0                                                3.0                                       \n",
       "1                                                4.8                                       \n",
       "2                                                3.8                                       \n",
       "3                                                3.0                                       \n",
       "4                                                2.7                                       \n",
       "\n",
       "   Financing, insurance, real estate, professional and business services   \\\n",
       "0                                                2.4                        \n",
       "1                                                3.8                        \n",
       "2                                                3.4                        \n",
       "3                                                2.6                        \n",
       "4                                                2.6                        \n",
       "\n",
       "   Public administration, social and personal services  Other industries   \\\n",
       "0                                                1.3                  1.3   \n",
       "1                                                2.1                  2.2   \n",
       "2                                                1.7                  1.9   \n",
       "3                                                1.5                  1.6   \n",
       "4                                                1.4                  1.2   \n",
       "\n",
       "   All industries   \n",
       "0              3.5  \n",
       "1              5.3  \n",
       "2              4.3  \n",
       "3              3.4  \n",
       "4              3.3  "
      ]
     },
     "execution_count": 6,
     "metadata": {},
     "output_type": "execute_result"
    }
   ],
   "source": [
    "unem_df.head()"
   ]
  },
  {
   "cell_type": "code",
   "execution_count": 7,
   "metadata": {},
   "outputs": [],
   "source": [
    "#changing Unnamed:0 column to Period\n",
    "\n",
    "under_df.rename(columns={under_df.columns[0]: 'Period'}, inplace = True)\n",
    "unem_df.rename(columns={unem_df.columns[0]: 'Period'}, inplace = True)"
   ]
  },
  {
   "cell_type": "code",
   "execution_count": 8,
   "metadata": {},
   "outputs": [],
   "source": [
    "#changing All Industries column to Mean. All Industries column is the mean of all the industries in this data set.\n",
    "\n",
    "under_df.rename(columns={under_df.columns[-1]: 'Mean'}, inplace = True)\n",
    "unem_df.rename(columns={unem_df.columns[-1]: 'Mean'}, inplace = True)"
   ]
  },
  {
   "cell_type": "code",
   "execution_count": 9,
   "metadata": {},
   "outputs": [],
   "source": [
    "#change all non-numeric values to zero\n",
    "\n",
    "under_df.replace([\"##\",'#'], 0, inplace = True)\n",
    "unem_df.replace([\"##\",'#'], 0, inplace = True)"
   ]
  },
  {
   "cell_type": "code",
   "execution_count": 10,
   "metadata": {},
   "outputs": [
    {
     "data": {
      "text/html": [
       "<div>\n",
       "<style scoped>\n",
       "    .dataframe tbody tr th:only-of-type {\n",
       "        vertical-align: middle;\n",
       "    }\n",
       "\n",
       "    .dataframe tbody tr th {\n",
       "        vertical-align: top;\n",
       "    }\n",
       "\n",
       "    .dataframe thead th {\n",
       "        text-align: right;\n",
       "    }\n",
       "</style>\n",
       "<table border=\"1\" class=\"dataframe\">\n",
       "  <thead>\n",
       "    <tr style=\"text-align: right;\">\n",
       "      <th></th>\n",
       "      <th>Period</th>\n",
       "      <th>Manufacturing</th>\n",
       "      <th>Construction</th>\n",
       "      <th>Import/export trade and wholesale</th>\n",
       "      <th>Retail, accommodation and food services</th>\n",
       "      <th>Transportation, storage, postal and courier services, information and communications</th>\n",
       "      <th>Financing, insurance, real estate, professional and business services</th>\n",
       "      <th>Public administration, social and personal services</th>\n",
       "      <th>Other industries</th>\n",
       "      <th>Mean</th>\n",
       "    </tr>\n",
       "  </thead>\n",
       "  <tbody>\n",
       "    <tr>\n",
       "      <th>0</th>\n",
       "      <td>2008</td>\n",
       "      <td>1.5</td>\n",
       "      <td>10.6</td>\n",
       "      <td>0.4</td>\n",
       "      <td>1.6</td>\n",
       "      <td>2.1</td>\n",
       "      <td>0.6</td>\n",
       "      <td>1.1</td>\n",
       "      <td>1.4</td>\n",
       "      <td>1.9</td>\n",
       "    </tr>\n",
       "    <tr>\n",
       "      <th>1</th>\n",
       "      <td>2009</td>\n",
       "      <td>1.7</td>\n",
       "      <td>12.0</td>\n",
       "      <td>0.6</td>\n",
       "      <td>2.1</td>\n",
       "      <td>2.6</td>\n",
       "      <td>0.9</td>\n",
       "      <td>1.5</td>\n",
       "      <td>1.2</td>\n",
       "      <td>2.3</td>\n",
       "    </tr>\n",
       "    <tr>\n",
       "      <th>2</th>\n",
       "      <td>2010</td>\n",
       "      <td>1.5</td>\n",
       "      <td>9.5</td>\n",
       "      <td>0.5</td>\n",
       "      <td>2.0</td>\n",
       "      <td>2.2</td>\n",
       "      <td>1.0</td>\n",
       "      <td>1.4</td>\n",
       "      <td>0.0</td>\n",
       "      <td>2.0</td>\n",
       "    </tr>\n",
       "    <tr>\n",
       "      <th>3</th>\n",
       "      <td>2011</td>\n",
       "      <td>1.3</td>\n",
       "      <td>7.6</td>\n",
       "      <td>0.4</td>\n",
       "      <td>1.7</td>\n",
       "      <td>2.2</td>\n",
       "      <td>0.7</td>\n",
       "      <td>1.2</td>\n",
       "      <td>1.1</td>\n",
       "      <td>1.7</td>\n",
       "    </tr>\n",
       "    <tr>\n",
       "      <th>4</th>\n",
       "      <td>2012</td>\n",
       "      <td>1.0</td>\n",
       "      <td>7.9</td>\n",
       "      <td>0.3</td>\n",
       "      <td>1.5</td>\n",
       "      <td>1.7</td>\n",
       "      <td>0.6</td>\n",
       "      <td>0.9</td>\n",
       "      <td>0.0</td>\n",
       "      <td>1.5</td>\n",
       "    </tr>\n",
       "  </tbody>\n",
       "</table>\n",
       "</div>"
      ],
      "text/plain": [
       "  Period  Manufacturing  Construction  Import/export trade and wholesale  \\\n",
       "0   2008            1.5          10.6                                0.4   \n",
       "1   2009            1.7          12.0                                0.6   \n",
       "2   2010            1.5           9.5                                0.5   \n",
       "3   2011            1.3           7.6                                0.4   \n",
       "4   2012            1.0           7.9                                0.3   \n",
       "\n",
       "   Retail, accommodation and food services  \\\n",
       "0                                      1.6   \n",
       "1                                      2.1   \n",
       "2                                      2.0   \n",
       "3                                      1.7   \n",
       "4                                      1.5   \n",
       "\n",
       "   Transportation, storage, postal and courier services, information and communications  \\\n",
       "0                                                2.1                                      \n",
       "1                                                2.6                                      \n",
       "2                                                2.2                                      \n",
       "3                                                2.2                                      \n",
       "4                                                1.7                                      \n",
       "\n",
       "   Financing, insurance, real estate, professional and business services  \\\n",
       "0                                                0.6                       \n",
       "1                                                0.9                       \n",
       "2                                                1.0                       \n",
       "3                                                0.7                       \n",
       "4                                                0.6                       \n",
       "\n",
       "   Public administration, social and personal services  Other industries  Mean  \n",
       "0                                                1.1                 1.4   1.9  \n",
       "1                                                1.5                 1.2   2.3  \n",
       "2                                                1.4                 0.0   2.0  \n",
       "3                                                1.2                 1.1   1.7  \n",
       "4                                                0.9                 0.0   1.5  "
      ]
     },
     "execution_count": 10,
     "metadata": {},
     "output_type": "execute_result"
    }
   ],
   "source": [
    "under_df.head()"
   ]
  },
  {
   "cell_type": "code",
   "execution_count": 11,
   "metadata": {},
   "outputs": [
    {
     "data": {
      "text/html": [
       "<div>\n",
       "<style scoped>\n",
       "    .dataframe tbody tr th:only-of-type {\n",
       "        vertical-align: middle;\n",
       "    }\n",
       "\n",
       "    .dataframe tbody tr th {\n",
       "        vertical-align: top;\n",
       "    }\n",
       "\n",
       "    .dataframe thead th {\n",
       "        text-align: right;\n",
       "    }\n",
       "</style>\n",
       "<table border=\"1\" class=\"dataframe\">\n",
       "  <thead>\n",
       "    <tr style=\"text-align: right;\">\n",
       "      <th></th>\n",
       "      <th>Period</th>\n",
       "      <th>Manufacturing</th>\n",
       "      <th>Construction</th>\n",
       "      <th>Import/export trade and wholesale</th>\n",
       "      <th>Retail, accommodation and food services</th>\n",
       "      <th>Transportation, storage, postal and courier services, information and communications</th>\n",
       "      <th>Financing, insurance, real estate, professional and business services</th>\n",
       "      <th>Public administration, social and personal services</th>\n",
       "      <th>Other industries</th>\n",
       "      <th>Mean</th>\n",
       "    </tr>\n",
       "  </thead>\n",
       "  <tbody>\n",
       "    <tr>\n",
       "      <th>0</th>\n",
       "      <td>2008</td>\n",
       "      <td>4.5</td>\n",
       "      <td>6.7</td>\n",
       "      <td>2.6</td>\n",
       "      <td>5.0</td>\n",
       "      <td>3.0</td>\n",
       "      <td>2.4</td>\n",
       "      <td>1.3</td>\n",
       "      <td>1.3</td>\n",
       "      <td>3.5</td>\n",
       "    </tr>\n",
       "    <tr>\n",
       "      <th>1</th>\n",
       "      <td>2009</td>\n",
       "      <td>6.2</td>\n",
       "      <td>10.0</td>\n",
       "      <td>4.6</td>\n",
       "      <td>7.0</td>\n",
       "      <td>4.8</td>\n",
       "      <td>3.8</td>\n",
       "      <td>2.1</td>\n",
       "      <td>2.2</td>\n",
       "      <td>5.3</td>\n",
       "    </tr>\n",
       "    <tr>\n",
       "      <th>2</th>\n",
       "      <td>2010</td>\n",
       "      <td>4.7</td>\n",
       "      <td>6.9</td>\n",
       "      <td>4.1</td>\n",
       "      <td>5.8</td>\n",
       "      <td>3.8</td>\n",
       "      <td>3.4</td>\n",
       "      <td>1.7</td>\n",
       "      <td>1.9</td>\n",
       "      <td>4.3</td>\n",
       "    </tr>\n",
       "    <tr>\n",
       "      <th>3</th>\n",
       "      <td>2011</td>\n",
       "      <td>4.0</td>\n",
       "      <td>5.6</td>\n",
       "      <td>3.1</td>\n",
       "      <td>4.6</td>\n",
       "      <td>3.0</td>\n",
       "      <td>2.6</td>\n",
       "      <td>1.5</td>\n",
       "      <td>1.6</td>\n",
       "      <td>3.4</td>\n",
       "    </tr>\n",
       "    <tr>\n",
       "      <th>4</th>\n",
       "      <td>2012</td>\n",
       "      <td>4.0</td>\n",
       "      <td>4.9</td>\n",
       "      <td>2.8</td>\n",
       "      <td>4.4</td>\n",
       "      <td>2.7</td>\n",
       "      <td>2.6</td>\n",
       "      <td>1.4</td>\n",
       "      <td>1.2</td>\n",
       "      <td>3.3</td>\n",
       "    </tr>\n",
       "  </tbody>\n",
       "</table>\n",
       "</div>"
      ],
      "text/plain": [
       "  Period  Manufacturing   Construction   Import/export trade and wholesale   \\\n",
       "0   2008             4.5            6.7                                 2.6   \n",
       "1   2009             6.2           10.0                                 4.6   \n",
       "2   2010             4.7            6.9                                 4.1   \n",
       "3   2011             4.0            5.6                                 3.1   \n",
       "4   2012             4.0            4.9                                 2.8   \n",
       "\n",
       "   Retail, accommodation and food services   \\\n",
       "0                                       5.0   \n",
       "1                                       7.0   \n",
       "2                                       5.8   \n",
       "3                                       4.6   \n",
       "4                                       4.4   \n",
       "\n",
       "   Transportation, storage, postal and courier services, information and communications   \\\n",
       "0                                                3.0                                       \n",
       "1                                                4.8                                       \n",
       "2                                                3.8                                       \n",
       "3                                                3.0                                       \n",
       "4                                                2.7                                       \n",
       "\n",
       "   Financing, insurance, real estate, professional and business services   \\\n",
       "0                                                2.4                        \n",
       "1                                                3.8                        \n",
       "2                                                3.4                        \n",
       "3                                                2.6                        \n",
       "4                                                2.6                        \n",
       "\n",
       "   Public administration, social and personal services   Other industries   \\\n",
       "0                                                1.3                   1.3   \n",
       "1                                                2.1                   2.2   \n",
       "2                                                1.7                   1.9   \n",
       "3                                                1.5                   1.6   \n",
       "4                                                1.4                   1.2   \n",
       "\n",
       "   Mean  \n",
       "0   3.5  \n",
       "1   5.3  \n",
       "2   4.3  \n",
       "3   3.4  \n",
       "4   3.3  "
      ]
     },
     "execution_count": 11,
     "metadata": {},
     "output_type": "execute_result"
    }
   ],
   "source": [
    "unem_df.head()"
   ]
  },
  {
   "cell_type": "code",
   "execution_count": 12,
   "metadata": {},
   "outputs": [
    {
     "name": "stdout",
     "output_type": "stream",
     "text": [
      "<class 'pandas.core.frame.DataFrame'>\n",
      "Int64Index: 163 entries, 0 to 162\n",
      "Data columns (total 10 columns):\n",
      " #   Column                                                                                Non-Null Count  Dtype  \n",
      "---  ------                                                                                --------------  -----  \n",
      " 0   Period                                                                                163 non-null    object \n",
      " 1   Manufacturing                                                                         163 non-null    float64\n",
      " 2   Construction                                                                          163 non-null    float64\n",
      " 3   Import/export trade and wholesale                                                     163 non-null    float64\n",
      " 4   Retail, accommodation and food services                                               163 non-null    float64\n",
      " 5   Transportation, storage, postal and courier services, information and communications  163 non-null    float64\n",
      " 6   Financing, insurance, real estate, professional and business services                 163 non-null    float64\n",
      " 7   Public administration, social and personal services                                   163 non-null    float64\n",
      " 8   Other industries                                                                      163 non-null    float64\n",
      " 9   Mean                                                                                  163 non-null    float64\n",
      "dtypes: float64(9), object(1)\n",
      "memory usage: 14.0+ KB\n"
     ]
    }
   ],
   "source": [
    "#check if all columns are in float type after changing all non-numeric to zero.\n",
    "\n",
    "under_df.info()"
   ]
  },
  {
   "cell_type": "code",
   "execution_count": 13,
   "metadata": {},
   "outputs": [
    {
     "name": "stdout",
     "output_type": "stream",
     "text": [
      "<class 'pandas.core.frame.DataFrame'>\n",
      "Int64Index: 163 entries, 0 to 162\n",
      "Data columns (total 10 columns):\n",
      " #   Column                                                                                 Non-Null Count  Dtype  \n",
      "---  ------                                                                                 --------------  -----  \n",
      " 0   Period                                                                                 163 non-null    object \n",
      " 1   Manufacturing                                                                          163 non-null    float64\n",
      " 2   Construction                                                                           163 non-null    float64\n",
      " 3   Import/export trade and wholesale                                                      163 non-null    float64\n",
      " 4   Retail, accommodation and food services                                                163 non-null    float64\n",
      " 5   Transportation, storage, postal and courier services, information and communications   163 non-null    float64\n",
      " 6   Financing, insurance, real estate, professional and business services                  163 non-null    float64\n",
      " 7   Public administration, social and personal services                                    163 non-null    float64\n",
      " 8   Other industries                                                                       163 non-null    float64\n",
      " 9   Mean                                                                                   163 non-null    float64\n",
      "dtypes: float64(9), object(1)\n",
      "memory usage: 14.0+ KB\n"
     ]
    }
   ],
   "source": [
    "unem_df.info()"
   ]
  },
  {
   "cell_type": "markdown",
   "metadata": {},
   "source": [
    "<a id=\"2\"></a> <br>\n",
    "### 2. Understanding the Data"
   ]
  },
  {
   "cell_type": "code",
   "execution_count": 14,
   "metadata": {},
   "outputs": [
    {
     "data": {
      "text/html": [
       "<div>\n",
       "<style scoped>\n",
       "    .dataframe tbody tr th:only-of-type {\n",
       "        vertical-align: middle;\n",
       "    }\n",
       "\n",
       "    .dataframe tbody tr th {\n",
       "        vertical-align: top;\n",
       "    }\n",
       "\n",
       "    .dataframe thead th {\n",
       "        text-align: right;\n",
       "    }\n",
       "</style>\n",
       "<table border=\"1\" class=\"dataframe\">\n",
       "  <thead>\n",
       "    <tr style=\"text-align: right;\">\n",
       "      <th></th>\n",
       "      <th>Manufacturing</th>\n",
       "      <th>Construction</th>\n",
       "      <th>Import/export trade and wholesale</th>\n",
       "      <th>Retail, accommodation and food services</th>\n",
       "      <th>Transportation, storage, postal and courier services, information and communications</th>\n",
       "      <th>Financing, insurance, real estate, professional and business services</th>\n",
       "      <th>Public administration, social and personal services</th>\n",
       "      <th>Other industries</th>\n",
       "      <th>Mean</th>\n",
       "    </tr>\n",
       "  </thead>\n",
       "  <tbody>\n",
       "    <tr>\n",
       "      <th>count</th>\n",
       "      <td>163.000000</td>\n",
       "      <td>163.000000</td>\n",
       "      <td>163.000000</td>\n",
       "      <td>163.000000</td>\n",
       "      <td>163.000000</td>\n",
       "      <td>163.000000</td>\n",
       "      <td>163.000000</td>\n",
       "      <td>163.000000</td>\n",
       "      <td>163.000000</td>\n",
       "    </tr>\n",
       "    <tr>\n",
       "      <th>mean</th>\n",
       "      <td>1.006748</td>\n",
       "      <td>7.492638</td>\n",
       "      <td>0.417178</td>\n",
       "      <td>1.633742</td>\n",
       "      <td>1.876074</td>\n",
       "      <td>0.673006</td>\n",
       "      <td>1.048466</td>\n",
       "      <td>0.458896</td>\n",
       "      <td>1.609202</td>\n",
       "    </tr>\n",
       "    <tr>\n",
       "      <th>std</th>\n",
       "      <td>0.641962</td>\n",
       "      <td>2.200184</td>\n",
       "      <td>0.350061</td>\n",
       "      <td>0.936187</td>\n",
       "      <td>0.751610</td>\n",
       "      <td>0.290181</td>\n",
       "      <td>0.398509</td>\n",
       "      <td>1.129008</td>\n",
       "      <td>0.528544</td>\n",
       "    </tr>\n",
       "    <tr>\n",
       "      <th>min</th>\n",
       "      <td>0.000000</td>\n",
       "      <td>4.400000</td>\n",
       "      <td>0.000000</td>\n",
       "      <td>0.700000</td>\n",
       "      <td>1.000000</td>\n",
       "      <td>0.300000</td>\n",
       "      <td>0.600000</td>\n",
       "      <td>0.000000</td>\n",
       "      <td>1.000000</td>\n",
       "    </tr>\n",
       "    <tr>\n",
       "      <th>25%</th>\n",
       "      <td>0.600000</td>\n",
       "      <td>5.700000</td>\n",
       "      <td>0.300000</td>\n",
       "      <td>1.200000</td>\n",
       "      <td>1.450000</td>\n",
       "      <td>0.500000</td>\n",
       "      <td>0.800000</td>\n",
       "      <td>0.000000</td>\n",
       "      <td>1.300000</td>\n",
       "    </tr>\n",
       "    <tr>\n",
       "      <th>50%</th>\n",
       "      <td>0.900000</td>\n",
       "      <td>7.300000</td>\n",
       "      <td>0.300000</td>\n",
       "      <td>1.400000</td>\n",
       "      <td>1.700000</td>\n",
       "      <td>0.600000</td>\n",
       "      <td>1.000000</td>\n",
       "      <td>0.000000</td>\n",
       "      <td>1.500000</td>\n",
       "    </tr>\n",
       "    <tr>\n",
       "      <th>75%</th>\n",
       "      <td>1.300000</td>\n",
       "      <td>8.550000</td>\n",
       "      <td>0.500000</td>\n",
       "      <td>1.800000</td>\n",
       "      <td>2.100000</td>\n",
       "      <td>0.750000</td>\n",
       "      <td>1.200000</td>\n",
       "      <td>0.000000</td>\n",
       "      <td>1.800000</td>\n",
       "    </tr>\n",
       "    <tr>\n",
       "      <th>max</th>\n",
       "      <td>3.600000</td>\n",
       "      <td>13.400000</td>\n",
       "      <td>2.200000</td>\n",
       "      <td>6.300000</td>\n",
       "      <td>5.600000</td>\n",
       "      <td>2.000000</td>\n",
       "      <td>2.900000</td>\n",
       "      <td>5.200000</td>\n",
       "      <td>3.800000</td>\n",
       "    </tr>\n",
       "  </tbody>\n",
       "</table>\n",
       "</div>"
      ],
      "text/plain": [
       "       Manufacturing  Construction  Import/export trade and wholesale  \\\n",
       "count     163.000000    163.000000                         163.000000   \n",
       "mean        1.006748      7.492638                           0.417178   \n",
       "std         0.641962      2.200184                           0.350061   \n",
       "min         0.000000      4.400000                           0.000000   \n",
       "25%         0.600000      5.700000                           0.300000   \n",
       "50%         0.900000      7.300000                           0.300000   \n",
       "75%         1.300000      8.550000                           0.500000   \n",
       "max         3.600000     13.400000                           2.200000   \n",
       "\n",
       "       Retail, accommodation and food services  \\\n",
       "count                               163.000000   \n",
       "mean                                  1.633742   \n",
       "std                                   0.936187   \n",
       "min                                   0.700000   \n",
       "25%                                   1.200000   \n",
       "50%                                   1.400000   \n",
       "75%                                   1.800000   \n",
       "max                                   6.300000   \n",
       "\n",
       "       Transportation, storage, postal and courier services, information and communications  \\\n",
       "count                                         163.000000                                      \n",
       "mean                                            1.876074                                      \n",
       "std                                             0.751610                                      \n",
       "min                                             1.000000                                      \n",
       "25%                                             1.450000                                      \n",
       "50%                                             1.700000                                      \n",
       "75%                                             2.100000                                      \n",
       "max                                             5.600000                                      \n",
       "\n",
       "       Financing, insurance, real estate, professional and business services  \\\n",
       "count                                         163.000000                       \n",
       "mean                                            0.673006                       \n",
       "std                                             0.290181                       \n",
       "min                                             0.300000                       \n",
       "25%                                             0.500000                       \n",
       "50%                                             0.600000                       \n",
       "75%                                             0.750000                       \n",
       "max                                             2.000000                       \n",
       "\n",
       "       Public administration, social and personal services  Other industries  \\\n",
       "count                                         163.000000          163.000000   \n",
       "mean                                            1.048466            0.458896   \n",
       "std                                             0.398509            1.129008   \n",
       "min                                             0.600000            0.000000   \n",
       "25%                                             0.800000            0.000000   \n",
       "50%                                             1.000000            0.000000   \n",
       "75%                                             1.200000            0.000000   \n",
       "max                                             2.900000            5.200000   \n",
       "\n",
       "             Mean  \n",
       "count  163.000000  \n",
       "mean     1.609202  \n",
       "std      0.528544  \n",
       "min      1.000000  \n",
       "25%      1.300000  \n",
       "50%      1.500000  \n",
       "75%      1.800000  \n",
       "max      3.800000  "
      ]
     },
     "execution_count": 14,
     "metadata": {},
     "output_type": "execute_result"
    }
   ],
   "source": [
    "under_df.describe()"
   ]
  },
  {
   "cell_type": "code",
   "execution_count": 15,
   "metadata": {},
   "outputs": [
    {
     "data": {
      "text/html": [
       "<div>\n",
       "<style scoped>\n",
       "    .dataframe tbody tr th:only-of-type {\n",
       "        vertical-align: middle;\n",
       "    }\n",
       "\n",
       "    .dataframe tbody tr th {\n",
       "        vertical-align: top;\n",
       "    }\n",
       "\n",
       "    .dataframe thead th {\n",
       "        text-align: right;\n",
       "    }\n",
       "</style>\n",
       "<table border=\"1\" class=\"dataframe\">\n",
       "  <thead>\n",
       "    <tr style=\"text-align: right;\">\n",
       "      <th></th>\n",
       "      <th>Manufacturing</th>\n",
       "      <th>Construction</th>\n",
       "      <th>Import/export trade and wholesale</th>\n",
       "      <th>Retail, accommodation and food services</th>\n",
       "      <th>Transportation, storage, postal and courier services, information and communications</th>\n",
       "      <th>Financing, insurance, real estate, professional and business services</th>\n",
       "      <th>Public administration, social and personal services</th>\n",
       "      <th>Other industries</th>\n",
       "      <th>Mean</th>\n",
       "    </tr>\n",
       "  </thead>\n",
       "  <tbody>\n",
       "    <tr>\n",
       "      <th>count</th>\n",
       "      <td>163.000000</td>\n",
       "      <td>163.000000</td>\n",
       "      <td>163.000000</td>\n",
       "      <td>163.000000</td>\n",
       "      <td>163.000000</td>\n",
       "      <td>163.000000</td>\n",
       "      <td>163.000000</td>\n",
       "      <td>163.000000</td>\n",
       "      <td>163.000000</td>\n",
       "    </tr>\n",
       "    <tr>\n",
       "      <th>mean</th>\n",
       "      <td>3.911656</td>\n",
       "      <td>5.753374</td>\n",
       "      <td>3.080368</td>\n",
       "      <td>5.125767</td>\n",
       "      <td>3.098773</td>\n",
       "      <td>2.642945</td>\n",
       "      <td>1.559509</td>\n",
       "      <td>1.158896</td>\n",
       "      <td>3.606748</td>\n",
       "    </tr>\n",
       "    <tr>\n",
       "      <th>std</th>\n",
       "      <td>1.139818</td>\n",
       "      <td>2.065151</td>\n",
       "      <td>0.763347</td>\n",
       "      <td>1.386068</td>\n",
       "      <td>0.856708</td>\n",
       "      <td>0.568729</td>\n",
       "      <td>0.419382</td>\n",
       "      <td>1.498960</td>\n",
       "      <td>0.832676</td>\n",
       "    </tr>\n",
       "    <tr>\n",
       "      <th>min</th>\n",
       "      <td>2.000000</td>\n",
       "      <td>3.300000</td>\n",
       "      <td>1.900000</td>\n",
       "      <td>3.400000</td>\n",
       "      <td>2.000000</td>\n",
       "      <td>1.900000</td>\n",
       "      <td>1.000000</td>\n",
       "      <td>0.000000</td>\n",
       "      <td>2.600000</td>\n",
       "    </tr>\n",
       "    <tr>\n",
       "      <th>25%</th>\n",
       "      <td>3.100000</td>\n",
       "      <td>4.400000</td>\n",
       "      <td>2.600000</td>\n",
       "      <td>4.400000</td>\n",
       "      <td>2.600000</td>\n",
       "      <td>2.200000</td>\n",
       "      <td>1.300000</td>\n",
       "      <td>0.000000</td>\n",
       "      <td>3.100000</td>\n",
       "    </tr>\n",
       "    <tr>\n",
       "      <th>50%</th>\n",
       "      <td>3.700000</td>\n",
       "      <td>5.100000</td>\n",
       "      <td>2.900000</td>\n",
       "      <td>4.700000</td>\n",
       "      <td>2.800000</td>\n",
       "      <td>2.500000</td>\n",
       "      <td>1.500000</td>\n",
       "      <td>0.000000</td>\n",
       "      <td>3.400000</td>\n",
       "    </tr>\n",
       "    <tr>\n",
       "      <th>75%</th>\n",
       "      <td>4.400000</td>\n",
       "      <td>6.350000</td>\n",
       "      <td>3.250000</td>\n",
       "      <td>5.250000</td>\n",
       "      <td>3.200000</td>\n",
       "      <td>2.800000</td>\n",
       "      <td>1.700000</td>\n",
       "      <td>2.400000</td>\n",
       "      <td>3.600000</td>\n",
       "    </tr>\n",
       "    <tr>\n",
       "      <th>max</th>\n",
       "      <td>7.000000</td>\n",
       "      <td>12.800000</td>\n",
       "      <td>5.200000</td>\n",
       "      <td>11.700000</td>\n",
       "      <td>6.000000</td>\n",
       "      <td>4.100000</td>\n",
       "      <td>3.300000</td>\n",
       "      <td>5.200000</td>\n",
       "      <td>6.700000</td>\n",
       "    </tr>\n",
       "  </tbody>\n",
       "</table>\n",
       "</div>"
      ],
      "text/plain": [
       "       Manufacturing   Construction   Import/export trade and wholesale   \\\n",
       "count      163.000000     163.000000                          163.000000   \n",
       "mean         3.911656       5.753374                            3.080368   \n",
       "std          1.139818       2.065151                            0.763347   \n",
       "min          2.000000       3.300000                            1.900000   \n",
       "25%          3.100000       4.400000                            2.600000   \n",
       "50%          3.700000       5.100000                            2.900000   \n",
       "75%          4.400000       6.350000                            3.250000   \n",
       "max          7.000000      12.800000                            5.200000   \n",
       "\n",
       "       Retail, accommodation and food services   \\\n",
       "count                                163.000000   \n",
       "mean                                   5.125767   \n",
       "std                                    1.386068   \n",
       "min                                    3.400000   \n",
       "25%                                    4.400000   \n",
       "50%                                    4.700000   \n",
       "75%                                    5.250000   \n",
       "max                                   11.700000   \n",
       "\n",
       "       Transportation, storage, postal and courier services, information and communications   \\\n",
       "count                                         163.000000                                       \n",
       "mean                                            3.098773                                       \n",
       "std                                             0.856708                                       \n",
       "min                                             2.000000                                       \n",
       "25%                                             2.600000                                       \n",
       "50%                                             2.800000                                       \n",
       "75%                                             3.200000                                       \n",
       "max                                             6.000000                                       \n",
       "\n",
       "       Financing, insurance, real estate, professional and business services   \\\n",
       "count                                         163.000000                        \n",
       "mean                                            2.642945                        \n",
       "std                                             0.568729                        \n",
       "min                                             1.900000                        \n",
       "25%                                             2.200000                        \n",
       "50%                                             2.500000                        \n",
       "75%                                             2.800000                        \n",
       "max                                             4.100000                        \n",
       "\n",
       "       Public administration, social and personal services   \\\n",
       "count                                         163.000000      \n",
       "mean                                            1.559509      \n",
       "std                                             0.419382      \n",
       "min                                             1.000000      \n",
       "25%                                             1.300000      \n",
       "50%                                             1.500000      \n",
       "75%                                             1.700000      \n",
       "max                                             3.300000      \n",
       "\n",
       "       Other industries         Mean  \n",
       "count         163.000000  163.000000  \n",
       "mean            1.158896    3.606748  \n",
       "std             1.498960    0.832676  \n",
       "min             0.000000    2.600000  \n",
       "25%             0.000000    3.100000  \n",
       "50%             0.000000    3.400000  \n",
       "75%             2.400000    3.600000  \n",
       "max             5.200000    6.700000  "
      ]
     },
     "execution_count": 15,
     "metadata": {},
     "output_type": "execute_result"
    }
   ],
   "source": [
    "unem_df.describe()"
   ]
  },
  {
   "cell_type": "code",
   "execution_count": 16,
   "metadata": {},
   "outputs": [],
   "source": [
    "#understanding more of the data using Pandas Profiling Report\n",
    "\n",
    "profile_Under = ProfileReport(under_df, title='Summary of Underemployment Data: INDUSTRY', explorative=True)\n",
    "profile_UnEm = ProfileReport(unem_df, title='Summary of Unemployment Data: INDUSTRY', explorative=True)"
   ]
  },
  {
   "cell_type": "code",
   "execution_count": 17,
   "metadata": {},
   "outputs": [
    {
     "data": {
      "application/vnd.jupyter.widget-view+json": {
       "model_id": "90b22935c9644b1d99f35a7ab183bc6c",
       "version_major": 2,
       "version_minor": 0
      },
      "text/plain": [
       "HBox(children=(HTML(value='Summarize dataset'), FloatProgress(value=0.0, max=24.0), HTML(value='')))"
      ]
     },
     "metadata": {},
     "output_type": "display_data"
    },
    {
     "name": "stdout",
     "output_type": "stream",
     "text": [
      "\n"
     ]
    },
    {
     "data": {
      "application/vnd.jupyter.widget-view+json": {
       "model_id": "b2189d2cd2c34fadb5e9547135bb0f83",
       "version_major": 2,
       "version_minor": 0
      },
      "text/plain": [
       "HBox(children=(HTML(value='Generate report structure'), FloatProgress(value=0.0, max=1.0), HTML(value='')))"
      ]
     },
     "metadata": {},
     "output_type": "display_data"
    },
    {
     "name": "stdout",
     "output_type": "stream",
     "text": [
      "\n"
     ]
    },
    {
     "data": {
      "application/vnd.jupyter.widget-view+json": {
       "model_id": "bbf0503815224327b9d7d4118e6e2f0c",
       "version_major": 2,
       "version_minor": 0
      },
      "text/plain": [
       "HBox(children=(HTML(value='Render HTML'), FloatProgress(value=0.0, max=1.0), HTML(value='')))"
      ]
     },
     "metadata": {},
     "output_type": "display_data"
    },
    {
     "name": "stdout",
     "output_type": "stream",
     "text": [
      "\n"
     ]
    },
    {
     "data": {
      "application/vnd.jupyter.widget-view+json": {
       "model_id": "c7184a6f3c954978a31c31044c95c983",
       "version_major": 2,
       "version_minor": 0
      },
      "text/plain": [
       "HBox(children=(HTML(value='Export report to file'), FloatProgress(value=0.0, max=1.0), HTML(value='')))"
      ]
     },
     "metadata": {},
     "output_type": "display_data"
    },
    {
     "name": "stdout",
     "output_type": "stream",
     "text": [
      "\n"
     ]
    },
    {
     "data": {
      "application/vnd.jupyter.widget-view+json": {
       "model_id": "f76929230e774ad48f097cc23c819af9",
       "version_major": 2,
       "version_minor": 0
      },
      "text/plain": [
       "HBox(children=(HTML(value='Summarize dataset'), FloatProgress(value=0.0, max=24.0), HTML(value='')))"
      ]
     },
     "metadata": {},
     "output_type": "display_data"
    },
    {
     "name": "stdout",
     "output_type": "stream",
     "text": [
      "\n"
     ]
    },
    {
     "data": {
      "application/vnd.jupyter.widget-view+json": {
       "model_id": "1b51dbccefd34c58b440dfc45a6f8b3f",
       "version_major": 2,
       "version_minor": 0
      },
      "text/plain": [
       "HBox(children=(HTML(value='Generate report structure'), FloatProgress(value=0.0, max=1.0), HTML(value='')))"
      ]
     },
     "metadata": {},
     "output_type": "display_data"
    },
    {
     "name": "stdout",
     "output_type": "stream",
     "text": [
      "\n"
     ]
    },
    {
     "data": {
      "application/vnd.jupyter.widget-view+json": {
       "model_id": "c6a41af688924dba900ab9554bf2391d",
       "version_major": 2,
       "version_minor": 0
      },
      "text/plain": [
       "HBox(children=(HTML(value='Render HTML'), FloatProgress(value=0.0, max=1.0), HTML(value='')))"
      ]
     },
     "metadata": {},
     "output_type": "display_data"
    },
    {
     "name": "stdout",
     "output_type": "stream",
     "text": [
      "\n"
     ]
    },
    {
     "data": {
      "application/vnd.jupyter.widget-view+json": {
       "model_id": "5818fc453e4f4895ac8407e9fd6bd101",
       "version_major": 2,
       "version_minor": 0
      },
      "text/plain": [
       "HBox(children=(HTML(value='Export report to file'), FloatProgress(value=0.0, max=1.0), HTML(value='')))"
      ]
     },
     "metadata": {},
     "output_type": "display_data"
    },
    {
     "name": "stdout",
     "output_type": "stream",
     "text": [
      "\n"
     ]
    }
   ],
   "source": [
    "#exported the file to HTML\n",
    "\n",
    "profile_Under.to_file(\"Underemployment Data_INDUSTRY.html\")\n",
    "profile_UnEm.to_file(\"Unemployment Data_INDUSTRY.html\")"
   ]
  },
  {
   "cell_type": "code",
   "execution_count": 18,
   "metadata": {},
   "outputs": [
    {
     "data": {
      "text/plain": [
       "Period                                                                                   0\n",
       "Manufacturing                                                                            0\n",
       "Construction                                                                             0\n",
       "Import/export trade and wholesale                                                        0\n",
       "Retail, accommodation and food services                                                  0\n",
       "Transportation, storage, postal and courier services, information and communications     0\n",
       "Financing, insurance, real estate, professional and business services                    0\n",
       "Public administration, social and personal services                                      0\n",
       "Other industries                                                                         0\n",
       "Mean                                                                                     0\n",
       "dtype: int64"
      ]
     },
     "execution_count": 18,
     "metadata": {},
     "output_type": "execute_result"
    }
   ],
   "source": [
    "#check if has NaN Values \n",
    "\n",
    "unem_df.isna().sum() "
   ]
  },
  {
   "cell_type": "code",
   "execution_count": 19,
   "metadata": {},
   "outputs": [
    {
     "data": {
      "text/plain": [
       "Period                                                                                  0\n",
       "Manufacturing                                                                           0\n",
       "Construction                                                                            0\n",
       "Import/export trade and wholesale                                                       0\n",
       "Retail, accommodation and food services                                                 0\n",
       "Transportation, storage, postal and courier services, information and communications    0\n",
       "Financing, insurance, real estate, professional and business services                   0\n",
       "Public administration, social and personal services                                     0\n",
       "Other industries                                                                        0\n",
       "Mean                                                                                    0\n",
       "dtype: int64"
      ]
     },
     "execution_count": 19,
     "metadata": {},
     "output_type": "execute_result"
    }
   ],
   "source": [
    "under_df.isna().sum() "
   ]
  },
  {
   "cell_type": "markdown",
   "metadata": {},
   "source": [
    "<a id=\"3\"></a> <br>\n",
    "### 3. Data Transformation "
   ]
  },
  {
   "cell_type": "code",
   "execution_count": 20,
   "metadata": {},
   "outputs": [],
   "source": [
    "#get monthly data only \n",
    "\n",
    "monthly_under_df = under_df.iloc[12:,:]\n",
    "monthly_unem_df = unem_df.iloc[12:,:]"
   ]
  },
  {
   "cell_type": "code",
   "execution_count": 21,
   "metadata": {},
   "outputs": [
    {
     "data": {
      "text/html": [
       "<div>\n",
       "<style scoped>\n",
       "    .dataframe tbody tr th:only-of-type {\n",
       "        vertical-align: middle;\n",
       "    }\n",
       "\n",
       "    .dataframe tbody tr th {\n",
       "        vertical-align: top;\n",
       "    }\n",
       "\n",
       "    .dataframe thead th {\n",
       "        text-align: right;\n",
       "    }\n",
       "</style>\n",
       "<table border=\"1\" class=\"dataframe\">\n",
       "  <thead>\n",
       "    <tr style=\"text-align: right;\">\n",
       "      <th></th>\n",
       "      <th>Period</th>\n",
       "      <th>Manufacturing</th>\n",
       "      <th>Construction</th>\n",
       "      <th>Import/export trade and wholesale</th>\n",
       "      <th>Retail, accommodation and food services</th>\n",
       "      <th>Transportation, storage, postal and courier services, information and communications</th>\n",
       "      <th>Financing, insurance, real estate, professional and business services</th>\n",
       "      <th>Public administration, social and personal services</th>\n",
       "      <th>Other industries</th>\n",
       "      <th>Mean</th>\n",
       "    </tr>\n",
       "  </thead>\n",
       "  <tbody>\n",
       "    <tr>\n",
       "      <th>12</th>\n",
       "      <td>1/2008 - 3/2008</td>\n",
       "      <td>1.3</td>\n",
       "      <td>10.8</td>\n",
       "      <td>0.5</td>\n",
       "      <td>1.6</td>\n",
       "      <td>2.2</td>\n",
       "      <td>0.8</td>\n",
       "      <td>1.1</td>\n",
       "      <td>0.0</td>\n",
       "      <td>1.9</td>\n",
       "    </tr>\n",
       "    <tr>\n",
       "      <th>13</th>\n",
       "      <td>2/2008 - 4/2008</td>\n",
       "      <td>2.0</td>\n",
       "      <td>10.3</td>\n",
       "      <td>0.4</td>\n",
       "      <td>1.5</td>\n",
       "      <td>2.0</td>\n",
       "      <td>0.6</td>\n",
       "      <td>1.0</td>\n",
       "      <td>0.0</td>\n",
       "      <td>1.8</td>\n",
       "    </tr>\n",
       "    <tr>\n",
       "      <th>14</th>\n",
       "      <td>3/2008 - 5/2008</td>\n",
       "      <td>1.9</td>\n",
       "      <td>10.8</td>\n",
       "      <td>0.4</td>\n",
       "      <td>1.6</td>\n",
       "      <td>1.8</td>\n",
       "      <td>0.8</td>\n",
       "      <td>1.0</td>\n",
       "      <td>0.0</td>\n",
       "      <td>1.8</td>\n",
       "    </tr>\n",
       "    <tr>\n",
       "      <th>15</th>\n",
       "      <td>4/2008 - 6/2008</td>\n",
       "      <td>1.8</td>\n",
       "      <td>10.4</td>\n",
       "      <td>0.5</td>\n",
       "      <td>1.5</td>\n",
       "      <td>2.1</td>\n",
       "      <td>0.8</td>\n",
       "      <td>1.0</td>\n",
       "      <td>0.0</td>\n",
       "      <td>1.9</td>\n",
       "    </tr>\n",
       "    <tr>\n",
       "      <th>16</th>\n",
       "      <td>5/2008 - 7/2008</td>\n",
       "      <td>1.4</td>\n",
       "      <td>10.9</td>\n",
       "      <td>0.5</td>\n",
       "      <td>1.7</td>\n",
       "      <td>2.1</td>\n",
       "      <td>0.7</td>\n",
       "      <td>1.1</td>\n",
       "      <td>4.8</td>\n",
       "      <td>1.9</td>\n",
       "    </tr>\n",
       "  </tbody>\n",
       "</table>\n",
       "</div>"
      ],
      "text/plain": [
       "             Period  Manufacturing  Construction  \\\n",
       "12  1/2008 - 3/2008            1.3          10.8   \n",
       "13  2/2008 - 4/2008            2.0          10.3   \n",
       "14  3/2008 - 5/2008            1.9          10.8   \n",
       "15  4/2008 - 6/2008            1.8          10.4   \n",
       "16  5/2008 - 7/2008            1.4          10.9   \n",
       "\n",
       "    Import/export trade and wholesale  \\\n",
       "12                                0.5   \n",
       "13                                0.4   \n",
       "14                                0.4   \n",
       "15                                0.5   \n",
       "16                                0.5   \n",
       "\n",
       "    Retail, accommodation and food services  \\\n",
       "12                                      1.6   \n",
       "13                                      1.5   \n",
       "14                                      1.6   \n",
       "15                                      1.5   \n",
       "16                                      1.7   \n",
       "\n",
       "    Transportation, storage, postal and courier services, information and communications  \\\n",
       "12                                                2.2                                      \n",
       "13                                                2.0                                      \n",
       "14                                                1.8                                      \n",
       "15                                                2.1                                      \n",
       "16                                                2.1                                      \n",
       "\n",
       "    Financing, insurance, real estate, professional and business services  \\\n",
       "12                                                0.8                       \n",
       "13                                                0.6                       \n",
       "14                                                0.8                       \n",
       "15                                                0.8                       \n",
       "16                                                0.7                       \n",
       "\n",
       "    Public administration, social and personal services  Other industries  \\\n",
       "12                                                1.1                 0.0   \n",
       "13                                                1.0                 0.0   \n",
       "14                                                1.0                 0.0   \n",
       "15                                                1.0                 0.0   \n",
       "16                                                1.1                 4.8   \n",
       "\n",
       "    Mean  \n",
       "12   1.9  \n",
       "13   1.8  \n",
       "14   1.8  \n",
       "15   1.9  \n",
       "16   1.9  "
      ]
     },
     "execution_count": 21,
     "metadata": {},
     "output_type": "execute_result"
    }
   ],
   "source": [
    "monthly_under_df.head()"
   ]
  },
  {
   "cell_type": "code",
   "execution_count": 22,
   "metadata": {},
   "outputs": [
    {
     "data": {
      "text/html": [
       "<div>\n",
       "<style scoped>\n",
       "    .dataframe tbody tr th:only-of-type {\n",
       "        vertical-align: middle;\n",
       "    }\n",
       "\n",
       "    .dataframe tbody tr th {\n",
       "        vertical-align: top;\n",
       "    }\n",
       "\n",
       "    .dataframe thead th {\n",
       "        text-align: right;\n",
       "    }\n",
       "</style>\n",
       "<table border=\"1\" class=\"dataframe\">\n",
       "  <thead>\n",
       "    <tr style=\"text-align: right;\">\n",
       "      <th></th>\n",
       "      <th>Period</th>\n",
       "      <th>Manufacturing</th>\n",
       "      <th>Construction</th>\n",
       "      <th>Import/export trade and wholesale</th>\n",
       "      <th>Retail, accommodation and food services</th>\n",
       "      <th>Transportation, storage, postal and courier services, information and communications</th>\n",
       "      <th>Financing, insurance, real estate, professional and business services</th>\n",
       "      <th>Public administration, social and personal services</th>\n",
       "      <th>Other industries</th>\n",
       "      <th>Mean</th>\n",
       "    </tr>\n",
       "  </thead>\n",
       "  <tbody>\n",
       "    <tr>\n",
       "      <th>12</th>\n",
       "      <td>1/2008 - 3/2008</td>\n",
       "      <td>3.9</td>\n",
       "      <td>7.5</td>\n",
       "      <td>2.4</td>\n",
       "      <td>4.6</td>\n",
       "      <td>3.0</td>\n",
       "      <td>2.5</td>\n",
       "      <td>1.3</td>\n",
       "      <td>0.0</td>\n",
       "      <td>3.2</td>\n",
       "    </tr>\n",
       "    <tr>\n",
       "      <th>13</th>\n",
       "      <td>2/2008 - 4/2008</td>\n",
       "      <td>4.1</td>\n",
       "      <td>8.3</td>\n",
       "      <td>2.5</td>\n",
       "      <td>4.3</td>\n",
       "      <td>3.0</td>\n",
       "      <td>2.5</td>\n",
       "      <td>1.3</td>\n",
       "      <td>0.0</td>\n",
       "      <td>3.3</td>\n",
       "    </tr>\n",
       "    <tr>\n",
       "      <th>14</th>\n",
       "      <td>3/2008 - 5/2008</td>\n",
       "      <td>4.5</td>\n",
       "      <td>7.2</td>\n",
       "      <td>2.5</td>\n",
       "      <td>4.8</td>\n",
       "      <td>2.9</td>\n",
       "      <td>2.4</td>\n",
       "      <td>1.4</td>\n",
       "      <td>0.0</td>\n",
       "      <td>3.3</td>\n",
       "    </tr>\n",
       "    <tr>\n",
       "      <th>15</th>\n",
       "      <td>4/2008 - 6/2008</td>\n",
       "      <td>4.3</td>\n",
       "      <td>7.6</td>\n",
       "      <td>2.5</td>\n",
       "      <td>4.5</td>\n",
       "      <td>2.7</td>\n",
       "      <td>2.3</td>\n",
       "      <td>1.1</td>\n",
       "      <td>0.0</td>\n",
       "      <td>3.3</td>\n",
       "    </tr>\n",
       "    <tr>\n",
       "      <th>16</th>\n",
       "      <td>5/2008 - 7/2008</td>\n",
       "      <td>4.2</td>\n",
       "      <td>6.8</td>\n",
       "      <td>2.2</td>\n",
       "      <td>4.6</td>\n",
       "      <td>2.3</td>\n",
       "      <td>2.3</td>\n",
       "      <td>1.2</td>\n",
       "      <td>0.0</td>\n",
       "      <td>3.4</td>\n",
       "    </tr>\n",
       "  </tbody>\n",
       "</table>\n",
       "</div>"
      ],
      "text/plain": [
       "             Period  Manufacturing   Construction   \\\n",
       "12  1/2008 - 3/2008             3.9            7.5   \n",
       "13  2/2008 - 4/2008             4.1            8.3   \n",
       "14  3/2008 - 5/2008             4.5            7.2   \n",
       "15  4/2008 - 6/2008             4.3            7.6   \n",
       "16  5/2008 - 7/2008             4.2            6.8   \n",
       "\n",
       "    Import/export trade and wholesale   \\\n",
       "12                                 2.4   \n",
       "13                                 2.5   \n",
       "14                                 2.5   \n",
       "15                                 2.5   \n",
       "16                                 2.2   \n",
       "\n",
       "    Retail, accommodation and food services   \\\n",
       "12                                       4.6   \n",
       "13                                       4.3   \n",
       "14                                       4.8   \n",
       "15                                       4.5   \n",
       "16                                       4.6   \n",
       "\n",
       "    Transportation, storage, postal and courier services, information and communications   \\\n",
       "12                                                3.0                                       \n",
       "13                                                3.0                                       \n",
       "14                                                2.9                                       \n",
       "15                                                2.7                                       \n",
       "16                                                2.3                                       \n",
       "\n",
       "    Financing, insurance, real estate, professional and business services   \\\n",
       "12                                                2.5                        \n",
       "13                                                2.5                        \n",
       "14                                                2.4                        \n",
       "15                                                2.3                        \n",
       "16                                                2.3                        \n",
       "\n",
       "    Public administration, social and personal services   Other industries   \\\n",
       "12                                                1.3                   0.0   \n",
       "13                                                1.3                   0.0   \n",
       "14                                                1.4                   0.0   \n",
       "15                                                1.1                   0.0   \n",
       "16                                                1.2                   0.0   \n",
       "\n",
       "    Mean  \n",
       "12   3.2  \n",
       "13   3.3  \n",
       "14   3.3  \n",
       "15   3.3  \n",
       "16   3.4  "
      ]
     },
     "execution_count": 22,
     "metadata": {},
     "output_type": "execute_result"
    }
   ],
   "source": [
    "monthly_unem_df.head()"
   ]
  },
  {
   "cell_type": "code",
   "execution_count": 23,
   "metadata": {},
   "outputs": [],
   "source": [
    "#get only data from 2019 (Extradition Law Protests) - 2020 (Covid 19 Pandemic)\n",
    "\n",
    "\n",
    "search_values = ['2020']\n",
    "\n",
    "underNew_df = monthly_under_df[monthly_under_df.Period.str.contains('|'.join(search_values), case=False)]\n",
    "unempNew_df = monthly_unem_df[monthly_unem_df.Period.str.contains('|'.join(search_values), case=False)]"
   ]
  },
  {
   "cell_type": "code",
   "execution_count": 24,
   "metadata": {},
   "outputs": [],
   "source": [
    "# reseting index to zero(0)\n",
    "\n",
    "unempNew_df.reset_index(drop=True, inplace = True)"
   ]
  },
  {
   "cell_type": "code",
   "execution_count": 25,
   "metadata": {},
   "outputs": [],
   "source": [
    "underNew_df.reset_index(drop=True, inplace = True)"
   ]
  },
  {
   "cell_type": "code",
   "execution_count": 26,
   "metadata": {},
   "outputs": [],
   "source": [
    "# change values of Period from 1/2019 to January 2019\n",
    "\n",
    "month_values = {'1/2': 'January', '2/2': 'February','3/': 'March', '4/': 'April', '5/': 'May', '6/': 'June',\n",
    "                '7/': 'July', '8/': 'August', '9/': 'September', '10/': 'October', '11/': 'November', '12/': 'December',}\n",
    "\n",
    "year_values = ['2020']"
   ]
  },
  {
   "cell_type": "code",
   "execution_count": 27,
   "metadata": {},
   "outputs": [
    {
     "name": "stderr",
     "output_type": "stream",
     "text": [
      "C:\\anaconda\\lib\\site-packages\\ipykernel_launcher.py:3: SettingWithCopyWarning: \n",
      "A value is trying to be set on a copy of a slice from a DataFrame.\n",
      "Try using .loc[row_indexer,col_indexer] = value instead\n",
      "\n",
      "See the caveats in the documentation: https://pandas.pydata.org/pandas-docs/stable/user_guide/indexing.html#returning-a-view-versus-a-copy\n",
      "  This is separate from the ipykernel package so we can avoid doing imports until\n",
      "C:\\anaconda\\lib\\site-packages\\ipykernel_launcher.py:4: SettingWithCopyWarning: \n",
      "A value is trying to be set on a copy of a slice from a DataFrame.\n",
      "Try using .loc[row_indexer,col_indexer] = value instead\n",
      "\n",
      "See the caveats in the documentation: https://pandas.pydata.org/pandas-docs/stable/user_guide/indexing.html#returning-a-view-versus-a-copy\n",
      "  after removing the cwd from sys.path.\n"
     ]
    }
   ],
   "source": [
    "#create MONTH columns\n",
    "\n",
    "unempNew_df['Month'] = np.nan\n",
    "underNew_df['Month'] = np.nan"
   ]
  },
  {
   "cell_type": "code",
   "execution_count": 28,
   "metadata": {},
   "outputs": [
    {
     "name": "stderr",
     "output_type": "stream",
     "text": [
      "C:\\anaconda\\lib\\site-packages\\pandas\\core\\indexing.py:670: SettingWithCopyWarning: \n",
      "A value is trying to be set on a copy of a slice from a DataFrame\n",
      "\n",
      "See the caveats in the documentation: https://pandas.pydata.org/pandas-docs/stable/user_guide/indexing.html#returning-a-view-versus-a-copy\n",
      "  iloc._setitem_with_indexer(indexer, value)\n",
      "C:\\anaconda\\lib\\site-packages\\ipykernel_launcher.py:7: SettingWithCopyWarning: \n",
      "A value is trying to be set on a copy of a slice from a DataFrame\n",
      "\n",
      "See the caveats in the documentation: https://pandas.pydata.org/pandas-docs/stable/user_guide/indexing.html#returning-a-view-versus-a-copy\n",
      "  import sys\n",
      "C:\\anaconda\\lib\\site-packages\\ipykernel_launcher.py:8: SettingWithCopyWarning: \n",
      "A value is trying to be set on a copy of a slice from a DataFrame\n",
      "\n",
      "See the caveats in the documentation: https://pandas.pydata.org/pandas-docs/stable/user_guide/indexing.html#returning-a-view-versus-a-copy\n",
      "  \n"
     ]
    },
    {
     "data": {
      "text/html": [
       "<div>\n",
       "<style scoped>\n",
       "    .dataframe tbody tr th:only-of-type {\n",
       "        vertical-align: middle;\n",
       "    }\n",
       "\n",
       "    .dataframe tbody tr th {\n",
       "        vertical-align: top;\n",
       "    }\n",
       "\n",
       "    .dataframe thead th {\n",
       "        text-align: right;\n",
       "    }\n",
       "</style>\n",
       "<table border=\"1\" class=\"dataframe\">\n",
       "  <thead>\n",
       "    <tr style=\"text-align: right;\">\n",
       "      <th></th>\n",
       "      <th>Period</th>\n",
       "      <th>Manufacturing</th>\n",
       "      <th>Construction</th>\n",
       "      <th>Import/export trade and wholesale</th>\n",
       "      <th>Retail, accommodation and food services</th>\n",
       "      <th>Transportation, storage, postal and courier services, information and communications</th>\n",
       "      <th>Financing, insurance, real estate, professional and business services</th>\n",
       "      <th>Public administration, social and personal services</th>\n",
       "      <th>Other industries</th>\n",
       "      <th>Mean</th>\n",
       "      <th>Month</th>\n",
       "    </tr>\n",
       "  </thead>\n",
       "  <tbody>\n",
       "    <tr>\n",
       "      <th>0</th>\n",
       "      <td>2020</td>\n",
       "      <td>0.0</td>\n",
       "      <td>5.7</td>\n",
       "      <td>0.3</td>\n",
       "      <td>1.6</td>\n",
       "      <td>1.1</td>\n",
       "      <td>0.5</td>\n",
       "      <td>0.6</td>\n",
       "      <td>0.0</td>\n",
       "      <td>1.2</td>\n",
       "      <td>January</td>\n",
       "    </tr>\n",
       "    <tr>\n",
       "      <th>1</th>\n",
       "      <td>2020</td>\n",
       "      <td>0.0</td>\n",
       "      <td>6.2</td>\n",
       "      <td>0.6</td>\n",
       "      <td>2.5</td>\n",
       "      <td>1.6</td>\n",
       "      <td>0.6</td>\n",
       "      <td>0.8</td>\n",
       "      <td>0.0</td>\n",
       "      <td>1.5</td>\n",
       "      <td>February</td>\n",
       "    </tr>\n",
       "    <tr>\n",
       "      <th>2</th>\n",
       "      <td>2020</td>\n",
       "      <td>1.0</td>\n",
       "      <td>7.1</td>\n",
       "      <td>0.9</td>\n",
       "      <td>3.9</td>\n",
       "      <td>2.4</td>\n",
       "      <td>0.8</td>\n",
       "      <td>1.3</td>\n",
       "      <td>0.0</td>\n",
       "      <td>2.1</td>\n",
       "      <td>March</td>\n",
       "    </tr>\n",
       "    <tr>\n",
       "      <th>3</th>\n",
       "      <td>2020</td>\n",
       "      <td>1.8</td>\n",
       "      <td>8.0</td>\n",
       "      <td>1.5</td>\n",
       "      <td>5.9</td>\n",
       "      <td>3.6</td>\n",
       "      <td>1.4</td>\n",
       "      <td>2.0</td>\n",
       "      <td>0.0</td>\n",
       "      <td>3.1</td>\n",
       "      <td>April</td>\n",
       "    </tr>\n",
       "    <tr>\n",
       "      <th>4</th>\n",
       "      <td>2020</td>\n",
       "      <td>2.3</td>\n",
       "      <td>8.2</td>\n",
       "      <td>1.9</td>\n",
       "      <td>6.3</td>\n",
       "      <td>4.5</td>\n",
       "      <td>1.6</td>\n",
       "      <td>2.4</td>\n",
       "      <td>0.0</td>\n",
       "      <td>3.5</td>\n",
       "      <td>May</td>\n",
       "    </tr>\n",
       "    <tr>\n",
       "      <th>5</th>\n",
       "      <td>2020</td>\n",
       "      <td>2.8</td>\n",
       "      <td>8.0</td>\n",
       "      <td>2.1</td>\n",
       "      <td>5.9</td>\n",
       "      <td>5.1</td>\n",
       "      <td>2.0</td>\n",
       "      <td>2.8</td>\n",
       "      <td>0.0</td>\n",
       "      <td>3.7</td>\n",
       "      <td>June</td>\n",
       "    </tr>\n",
       "    <tr>\n",
       "      <th>6</th>\n",
       "      <td>2020</td>\n",
       "      <td>3.1</td>\n",
       "      <td>8.0</td>\n",
       "      <td>2.1</td>\n",
       "      <td>5.0</td>\n",
       "      <td>5.2</td>\n",
       "      <td>1.9</td>\n",
       "      <td>2.6</td>\n",
       "      <td>0.0</td>\n",
       "      <td>3.5</td>\n",
       "      <td>July</td>\n",
       "    </tr>\n",
       "    <tr>\n",
       "      <th>7</th>\n",
       "      <td>2020</td>\n",
       "      <td>3.6</td>\n",
       "      <td>8.1</td>\n",
       "      <td>2.2</td>\n",
       "      <td>5.9</td>\n",
       "      <td>5.6</td>\n",
       "      <td>2.0</td>\n",
       "      <td>2.9</td>\n",
       "      <td>2.9</td>\n",
       "      <td>3.8</td>\n",
       "      <td>August</td>\n",
       "    </tr>\n",
       "    <tr>\n",
       "      <th>8</th>\n",
       "      <td>2020</td>\n",
       "      <td>3.6</td>\n",
       "      <td>8.3</td>\n",
       "      <td>2.2</td>\n",
       "      <td>6.3</td>\n",
       "      <td>5.5</td>\n",
       "      <td>2.0</td>\n",
       "      <td>2.7</td>\n",
       "      <td>2.6</td>\n",
       "      <td>3.8</td>\n",
       "      <td>September</td>\n",
       "    </tr>\n",
       "  </tbody>\n",
       "</table>\n",
       "</div>"
      ],
      "text/plain": [
       "  Period  Manufacturing  Construction  Import/export trade and wholesale  \\\n",
       "0   2020            0.0           5.7                                0.3   \n",
       "1   2020            0.0           6.2                                0.6   \n",
       "2   2020            1.0           7.1                                0.9   \n",
       "3   2020            1.8           8.0                                1.5   \n",
       "4   2020            2.3           8.2                                1.9   \n",
       "5   2020            2.8           8.0                                2.1   \n",
       "6   2020            3.1           8.0                                2.1   \n",
       "7   2020            3.6           8.1                                2.2   \n",
       "8   2020            3.6           8.3                                2.2   \n",
       "\n",
       "   Retail, accommodation and food services  \\\n",
       "0                                      1.6   \n",
       "1                                      2.5   \n",
       "2                                      3.9   \n",
       "3                                      5.9   \n",
       "4                                      6.3   \n",
       "5                                      5.9   \n",
       "6                                      5.0   \n",
       "7                                      5.9   \n",
       "8                                      6.3   \n",
       "\n",
       "   Transportation, storage, postal and courier services, information and communications  \\\n",
       "0                                                1.1                                      \n",
       "1                                                1.6                                      \n",
       "2                                                2.4                                      \n",
       "3                                                3.6                                      \n",
       "4                                                4.5                                      \n",
       "5                                                5.1                                      \n",
       "6                                                5.2                                      \n",
       "7                                                5.6                                      \n",
       "8                                                5.5                                      \n",
       "\n",
       "   Financing, insurance, real estate, professional and business services  \\\n",
       "0                                                0.5                       \n",
       "1                                                0.6                       \n",
       "2                                                0.8                       \n",
       "3                                                1.4                       \n",
       "4                                                1.6                       \n",
       "5                                                2.0                       \n",
       "6                                                1.9                       \n",
       "7                                                2.0                       \n",
       "8                                                2.0                       \n",
       "\n",
       "   Public administration, social and personal services  Other industries  \\\n",
       "0                                                0.6                 0.0   \n",
       "1                                                0.8                 0.0   \n",
       "2                                                1.3                 0.0   \n",
       "3                                                2.0                 0.0   \n",
       "4                                                2.4                 0.0   \n",
       "5                                                2.8                 0.0   \n",
       "6                                                2.6                 0.0   \n",
       "7                                                2.9                 2.9   \n",
       "8                                                2.7                 2.6   \n",
       "\n",
       "   Mean      Month  \n",
       "0   1.2    January  \n",
       "1   1.5   February  \n",
       "2   2.1      March  \n",
       "3   3.1      April  \n",
       "4   3.5        May  \n",
       "5   3.7       June  \n",
       "6   3.5       July  \n",
       "7   3.8     August  \n",
       "8   3.8  September  "
      ]
     },
     "execution_count": 28,
     "metadata": {},
     "output_type": "execute_result"
    }
   ],
   "source": [
    "#loop around the PERIOD column, change the values to year_values and write a value in MONTH column\n",
    "\n",
    "for key in month_values:\n",
    "    for row in range(0, len(underNew_df)):\n",
    "        for i in range(0, len(year_values)):\n",
    "            if((year_values[i] in underNew_df.iloc[row]['Period'][5:16]) and (key in underNew_df.iloc[row]['Period'][5:16])):\n",
    "                underNew_df['Month'].iloc[row] = month_values[key] \n",
    "                underNew_df['Period'].iloc[row] = year_values[i]\n",
    "\n",
    "underNew_df"
   ]
  },
  {
   "cell_type": "code",
   "execution_count": 29,
   "metadata": {},
   "outputs": [
    {
     "name": "stderr",
     "output_type": "stream",
     "text": [
      "C:\\anaconda\\lib\\site-packages\\pandas\\core\\indexing.py:670: SettingWithCopyWarning: \n",
      "A value is trying to be set on a copy of a slice from a DataFrame\n",
      "\n",
      "See the caveats in the documentation: https://pandas.pydata.org/pandas-docs/stable/user_guide/indexing.html#returning-a-view-versus-a-copy\n",
      "  iloc._setitem_with_indexer(indexer, value)\n",
      "C:\\anaconda\\lib\\site-packages\\ipykernel_launcher.py:7: SettingWithCopyWarning: \n",
      "A value is trying to be set on a copy of a slice from a DataFrame\n",
      "\n",
      "See the caveats in the documentation: https://pandas.pydata.org/pandas-docs/stable/user_guide/indexing.html#returning-a-view-versus-a-copy\n",
      "  import sys\n",
      "C:\\anaconda\\lib\\site-packages\\ipykernel_launcher.py:8: SettingWithCopyWarning: \n",
      "A value is trying to be set on a copy of a slice from a DataFrame\n",
      "\n",
      "See the caveats in the documentation: https://pandas.pydata.org/pandas-docs/stable/user_guide/indexing.html#returning-a-view-versus-a-copy\n",
      "  \n"
     ]
    },
    {
     "data": {
      "text/html": [
       "<div>\n",
       "<style scoped>\n",
       "    .dataframe tbody tr th:only-of-type {\n",
       "        vertical-align: middle;\n",
       "    }\n",
       "\n",
       "    .dataframe tbody tr th {\n",
       "        vertical-align: top;\n",
       "    }\n",
       "\n",
       "    .dataframe thead th {\n",
       "        text-align: right;\n",
       "    }\n",
       "</style>\n",
       "<table border=\"1\" class=\"dataframe\">\n",
       "  <thead>\n",
       "    <tr style=\"text-align: right;\">\n",
       "      <th></th>\n",
       "      <th>Period</th>\n",
       "      <th>Manufacturing</th>\n",
       "      <th>Construction</th>\n",
       "      <th>Import/export trade and wholesale</th>\n",
       "      <th>Retail, accommodation and food services</th>\n",
       "      <th>Transportation, storage, postal and courier services, information and communications</th>\n",
       "      <th>Financing, insurance, real estate, professional and business services</th>\n",
       "      <th>Public administration, social and personal services</th>\n",
       "      <th>Other industries</th>\n",
       "      <th>Mean</th>\n",
       "      <th>Month</th>\n",
       "    </tr>\n",
       "  </thead>\n",
       "  <tbody>\n",
       "    <tr>\n",
       "      <th>0</th>\n",
       "      <td>2020</td>\n",
       "      <td>3.5</td>\n",
       "      <td>5.7</td>\n",
       "      <td>2.7</td>\n",
       "      <td>5.2</td>\n",
       "      <td>2.5</td>\n",
       "      <td>2.1</td>\n",
       "      <td>1.1</td>\n",
       "      <td>2.9</td>\n",
       "      <td>3.1</td>\n",
       "      <td>January</td>\n",
       "    </tr>\n",
       "    <tr>\n",
       "      <th>1</th>\n",
       "      <td>2020</td>\n",
       "      <td>4.0</td>\n",
       "      <td>6.8</td>\n",
       "      <td>2.9</td>\n",
       "      <td>6.1</td>\n",
       "      <td>2.7</td>\n",
       "      <td>2.2</td>\n",
       "      <td>1.3</td>\n",
       "      <td>3.3</td>\n",
       "      <td>3.4</td>\n",
       "      <td>February</td>\n",
       "    </tr>\n",
       "    <tr>\n",
       "      <th>2</th>\n",
       "      <td>2020</td>\n",
       "      <td>5.8</td>\n",
       "      <td>8.5</td>\n",
       "      <td>3.6</td>\n",
       "      <td>6.8</td>\n",
       "      <td>3.3</td>\n",
       "      <td>2.8</td>\n",
       "      <td>2.0</td>\n",
       "      <td>3.9</td>\n",
       "      <td>4.2</td>\n",
       "      <td>March</td>\n",
       "    </tr>\n",
       "    <tr>\n",
       "      <th>3</th>\n",
       "      <td>2020</td>\n",
       "      <td>6.2</td>\n",
       "      <td>10.0</td>\n",
       "      <td>4.2</td>\n",
       "      <td>9.0</td>\n",
       "      <td>4.7</td>\n",
       "      <td>3.7</td>\n",
       "      <td>2.8</td>\n",
       "      <td>4.7</td>\n",
       "      <td>5.2</td>\n",
       "      <td>April</td>\n",
       "    </tr>\n",
       "    <tr>\n",
       "      <th>4</th>\n",
       "      <td>2020</td>\n",
       "      <td>7.0</td>\n",
       "      <td>10.8</td>\n",
       "      <td>4.7</td>\n",
       "      <td>10.6</td>\n",
       "      <td>5.8</td>\n",
       "      <td>4.0</td>\n",
       "      <td>3.3</td>\n",
       "      <td>3.8</td>\n",
       "      <td>6.0</td>\n",
       "      <td>May</td>\n",
       "    </tr>\n",
       "    <tr>\n",
       "      <th>5</th>\n",
       "      <td>2020</td>\n",
       "      <td>6.3</td>\n",
       "      <td>11.2</td>\n",
       "      <td>5.2</td>\n",
       "      <td>10.7</td>\n",
       "      <td>6.0</td>\n",
       "      <td>4.1</td>\n",
       "      <td>3.3</td>\n",
       "      <td>4.4</td>\n",
       "      <td>6.2</td>\n",
       "      <td>June</td>\n",
       "    </tr>\n",
       "    <tr>\n",
       "      <th>6</th>\n",
       "      <td>2020</td>\n",
       "      <td>6.7</td>\n",
       "      <td>11.3</td>\n",
       "      <td>5.1</td>\n",
       "      <td>10.8</td>\n",
       "      <td>5.8</td>\n",
       "      <td>3.7</td>\n",
       "      <td>3.1</td>\n",
       "      <td>4.5</td>\n",
       "      <td>6.3</td>\n",
       "      <td>July</td>\n",
       "    </tr>\n",
       "    <tr>\n",
       "      <th>7</th>\n",
       "      <td>2020</td>\n",
       "      <td>6.4</td>\n",
       "      <td>11.1</td>\n",
       "      <td>5.0</td>\n",
       "      <td>10.9</td>\n",
       "      <td>5.7</td>\n",
       "      <td>3.8</td>\n",
       "      <td>3.2</td>\n",
       "      <td>5.2</td>\n",
       "      <td>6.4</td>\n",
       "      <td>August</td>\n",
       "    </tr>\n",
       "    <tr>\n",
       "      <th>8</th>\n",
       "      <td>2020</td>\n",
       "      <td>6.5</td>\n",
       "      <td>10.9</td>\n",
       "      <td>5.2</td>\n",
       "      <td>11.7</td>\n",
       "      <td>5.9</td>\n",
       "      <td>4.0</td>\n",
       "      <td>3.2</td>\n",
       "      <td>3.8</td>\n",
       "      <td>6.7</td>\n",
       "      <td>September</td>\n",
       "    </tr>\n",
       "  </tbody>\n",
       "</table>\n",
       "</div>"
      ],
      "text/plain": [
       "  Period  Manufacturing   Construction   Import/export trade and wholesale   \\\n",
       "0   2020             3.5            5.7                                 2.7   \n",
       "1   2020             4.0            6.8                                 2.9   \n",
       "2   2020             5.8            8.5                                 3.6   \n",
       "3   2020             6.2           10.0                                 4.2   \n",
       "4   2020             7.0           10.8                                 4.7   \n",
       "5   2020             6.3           11.2                                 5.2   \n",
       "6   2020             6.7           11.3                                 5.1   \n",
       "7   2020             6.4           11.1                                 5.0   \n",
       "8   2020             6.5           10.9                                 5.2   \n",
       "\n",
       "   Retail, accommodation and food services   \\\n",
       "0                                       5.2   \n",
       "1                                       6.1   \n",
       "2                                       6.8   \n",
       "3                                       9.0   \n",
       "4                                      10.6   \n",
       "5                                      10.7   \n",
       "6                                      10.8   \n",
       "7                                      10.9   \n",
       "8                                      11.7   \n",
       "\n",
       "   Transportation, storage, postal and courier services, information and communications   \\\n",
       "0                                                2.5                                       \n",
       "1                                                2.7                                       \n",
       "2                                                3.3                                       \n",
       "3                                                4.7                                       \n",
       "4                                                5.8                                       \n",
       "5                                                6.0                                       \n",
       "6                                                5.8                                       \n",
       "7                                                5.7                                       \n",
       "8                                                5.9                                       \n",
       "\n",
       "   Financing, insurance, real estate, professional and business services   \\\n",
       "0                                                2.1                        \n",
       "1                                                2.2                        \n",
       "2                                                2.8                        \n",
       "3                                                3.7                        \n",
       "4                                                4.0                        \n",
       "5                                                4.1                        \n",
       "6                                                3.7                        \n",
       "7                                                3.8                        \n",
       "8                                                4.0                        \n",
       "\n",
       "   Public administration, social and personal services   Other industries   \\\n",
       "0                                                1.1                   2.9   \n",
       "1                                                1.3                   3.3   \n",
       "2                                                2.0                   3.9   \n",
       "3                                                2.8                   4.7   \n",
       "4                                                3.3                   3.8   \n",
       "5                                                3.3                   4.4   \n",
       "6                                                3.1                   4.5   \n",
       "7                                                3.2                   5.2   \n",
       "8                                                3.2                   3.8   \n",
       "\n",
       "   Mean      Month  \n",
       "0   3.1    January  \n",
       "1   3.4   February  \n",
       "2   4.2      March  \n",
       "3   5.2      April  \n",
       "4   6.0        May  \n",
       "5   6.2       June  \n",
       "6   6.3       July  \n",
       "7   6.4     August  \n",
       "8   6.7  September  "
      ]
     },
     "execution_count": 29,
     "metadata": {},
     "output_type": "execute_result"
    }
   ],
   "source": [
    "#loop around the PERIOD column, change the values to year_values and write a value in MONTH column\n",
    "\n",
    "for key in month_values:\n",
    "    for row in range(0, len(unempNew_df)):\n",
    "        for i in range(0, len(year_values)):\n",
    "            if((year_values[i] in unempNew_df.iloc[row]['Period'][5:16]) and (key in unempNew_df.iloc[row]['Period'][5:16])):\n",
    "                unempNew_df['Month'].iloc[row] = month_values[key] \n",
    "                unempNew_df['Period'].iloc[row] = year_values[i]\n",
    "\n",
    "unempNew_df"
   ]
  },
  {
   "cell_type": "markdown",
   "metadata": {},
   "source": [
    "<a id=\"4\"></a> <br>\n",
    "### 4. Data and Pattern Analysis"
   ]
  },
  {
   "cell_type": "markdown",
   "metadata": {},
   "source": [
    "<a id=\"4.1\"></a> <br>\n",
    "#### Q1: What is the MONTH that has the highest unemployment and underemployment rate? (peak month)"
   ]
  },
  {
   "cell_type": "code",
   "execution_count": 31,
   "metadata": {},
   "outputs": [],
   "source": [
    "#get 2020 data\n",
    "\n",
    "unemp2020_df = unempNew_df.loc[unempNew_df['Period'] == '2020']"
   ]
  },
  {
   "cell_type": "code",
   "execution_count": 32,
   "metadata": {},
   "outputs": [],
   "source": [
    "under2020_df = underNew_df.loc[underNew_df['Period'] == '2020']"
   ]
  },
  {
   "cell_type": "code",
   "execution_count": 33,
   "metadata": {},
   "outputs": [
    {
     "data": {
      "image/png": "[encoded data removed]",
      "text/plain": [
       "<Figure size 1296x720 with 1 Axes>"
      ]
     },
     "metadata": {
      "needs_background": "light"
     },
     "output_type": "display_data"
    }
   ],
   "source": [
    "#Unemployment Rate 2020: PEAK MONTH\n",
    "\n",
    "bar2 = unemp2020_df.sort_values('Mean', ascending = False).plot.bar(x='Month', figsize=(18,10))"
   ]
  },
  {
   "cell_type": "code",
   "execution_count": 34,
   "metadata": {},
   "outputs": [
    {
     "data": {
      "image/png": "[encoded data removed]",
      "text/plain": [
       "<Figure size 1296x720 with 1 Axes>"
      ]
     },
     "metadata": {
      "needs_background": "light"
     },
     "output_type": "display_data"
    }
   ],
   "source": [
    "#Underemployment Rate 2020: PEAK MONTH\n",
    "\n",
    "bar2 = under2020_df.sort_values('Mean', ascending = False).plot.bar(x='Month', figsize=(18,10))"
   ]
  },
  {
   "cell_type": "markdown",
   "metadata": {},
   "source": [
    "<a id=\"4.2\"></a> <br>\n",
    "#### Q2: What is the highly affected industry by Covid 19? "
   ]
  },
  {
   "cell_type": "markdown",
   "metadata": {},
   "source": [
    "#### Unemployment Data"
   ]
  },
  {
   "cell_type": "code",
   "execution_count": 35,
   "metadata": {},
   "outputs": [],
   "source": [
    "#Transform the data using transpose\n",
    "\n",
    "unemp2020_df_T = unemp2020_df.T "
   ]
  },
  {
   "cell_type": "code",
   "execution_count": 36,
   "metadata": {},
   "outputs": [],
   "source": [
    "#changing column names for 2020\n",
    "\n",
    "unemp2020_df_T.columns = unemp2020_df_T.iloc[10]\n",
    "unemp2020_df_T.drop(unemp2020_df_T.index[10], inplace = True)"
   ]
  },
  {
   "cell_type": "code",
   "execution_count": 37,
   "metadata": {},
   "outputs": [],
   "source": [
    "unemp2020_df_T.drop(unemp2020_df_T.index[0], inplace = True)"
   ]
  },
  {
   "cell_type": "code",
   "execution_count": 38,
   "metadata": {},
   "outputs": [],
   "source": [
    "# compute for mean per industry \n",
    "\n",
    "unemp2020_df_T['Mean'] = unemp2020_df_T.mean(axis=1)"
   ]
  },
  {
   "cell_type": "code",
   "execution_count": 39,
   "metadata": {
    "scrolled": false
   },
   "outputs": [
    {
     "data": {
      "text/html": [
       "<div>\n",
       "<style scoped>\n",
       "    .dataframe tbody tr th:only-of-type {\n",
       "        vertical-align: middle;\n",
       "    }\n",
       "\n",
       "    .dataframe tbody tr th {\n",
       "        vertical-align: top;\n",
       "    }\n",
       "\n",
       "    .dataframe thead th {\n",
       "        text-align: right;\n",
       "    }\n",
       "</style>\n",
       "<table border=\"1\" class=\"dataframe\">\n",
       "  <thead>\n",
       "    <tr style=\"text-align: right;\">\n",
       "      <th>Month</th>\n",
       "      <th>January</th>\n",
       "      <th>February</th>\n",
       "      <th>March</th>\n",
       "      <th>April</th>\n",
       "      <th>May</th>\n",
       "      <th>June</th>\n",
       "      <th>July</th>\n",
       "      <th>August</th>\n",
       "      <th>September</th>\n",
       "      <th>Mean</th>\n",
       "    </tr>\n",
       "  </thead>\n",
       "  <tbody>\n",
       "    <tr>\n",
       "      <th>Manufacturing</th>\n",
       "      <td>3.5</td>\n",
       "      <td>4</td>\n",
       "      <td>5.8</td>\n",
       "      <td>6.2</td>\n",
       "      <td>7</td>\n",
       "      <td>6.3</td>\n",
       "      <td>6.7</td>\n",
       "      <td>6.4</td>\n",
       "      <td>6.5</td>\n",
       "      <td>5.822222</td>\n",
       "    </tr>\n",
       "    <tr>\n",
       "      <th>Construction</th>\n",
       "      <td>5.7</td>\n",
       "      <td>6.8</td>\n",
       "      <td>8.5</td>\n",
       "      <td>10</td>\n",
       "      <td>10.8</td>\n",
       "      <td>11.2</td>\n",
       "      <td>11.3</td>\n",
       "      <td>11.1</td>\n",
       "      <td>10.9</td>\n",
       "      <td>9.588889</td>\n",
       "    </tr>\n",
       "    <tr>\n",
       "      <th>Import/export trade and wholesale</th>\n",
       "      <td>2.7</td>\n",
       "      <td>2.9</td>\n",
       "      <td>3.6</td>\n",
       "      <td>4.2</td>\n",
       "      <td>4.7</td>\n",
       "      <td>5.2</td>\n",
       "      <td>5.1</td>\n",
       "      <td>5</td>\n",
       "      <td>5.2</td>\n",
       "      <td>4.288889</td>\n",
       "    </tr>\n",
       "    <tr>\n",
       "      <th>Retail, accommodation and food services</th>\n",
       "      <td>5.2</td>\n",
       "      <td>6.1</td>\n",
       "      <td>6.8</td>\n",
       "      <td>9</td>\n",
       "      <td>10.6</td>\n",
       "      <td>10.7</td>\n",
       "      <td>10.8</td>\n",
       "      <td>10.9</td>\n",
       "      <td>11.7</td>\n",
       "      <td>9.088889</td>\n",
       "    </tr>\n",
       "    <tr>\n",
       "      <th>Transportation, storage, postal and courier services, information and communications</th>\n",
       "      <td>2.5</td>\n",
       "      <td>2.7</td>\n",
       "      <td>3.3</td>\n",
       "      <td>4.7</td>\n",
       "      <td>5.8</td>\n",
       "      <td>6</td>\n",
       "      <td>5.8</td>\n",
       "      <td>5.7</td>\n",
       "      <td>5.9</td>\n",
       "      <td>4.711111</td>\n",
       "    </tr>\n",
       "    <tr>\n",
       "      <th>Financing, insurance, real estate, professional and business services</th>\n",
       "      <td>2.1</td>\n",
       "      <td>2.2</td>\n",
       "      <td>2.8</td>\n",
       "      <td>3.7</td>\n",
       "      <td>4</td>\n",
       "      <td>4.1</td>\n",
       "      <td>3.7</td>\n",
       "      <td>3.8</td>\n",
       "      <td>4</td>\n",
       "      <td>3.377778</td>\n",
       "    </tr>\n",
       "    <tr>\n",
       "      <th>Public administration, social and personal services</th>\n",
       "      <td>1.1</td>\n",
       "      <td>1.3</td>\n",
       "      <td>2</td>\n",
       "      <td>2.8</td>\n",
       "      <td>3.3</td>\n",
       "      <td>3.3</td>\n",
       "      <td>3.1</td>\n",
       "      <td>3.2</td>\n",
       "      <td>3.2</td>\n",
       "      <td>2.588889</td>\n",
       "    </tr>\n",
       "    <tr>\n",
       "      <th>Other industries</th>\n",
       "      <td>2.9</td>\n",
       "      <td>3.3</td>\n",
       "      <td>3.9</td>\n",
       "      <td>4.7</td>\n",
       "      <td>3.8</td>\n",
       "      <td>4.4</td>\n",
       "      <td>4.5</td>\n",
       "      <td>5.2</td>\n",
       "      <td>3.8</td>\n",
       "      <td>4.055556</td>\n",
       "    </tr>\n",
       "    <tr>\n",
       "      <th>Mean</th>\n",
       "      <td>3.1</td>\n",
       "      <td>3.4</td>\n",
       "      <td>4.2</td>\n",
       "      <td>5.2</td>\n",
       "      <td>6</td>\n",
       "      <td>6.2</td>\n",
       "      <td>6.3</td>\n",
       "      <td>6.4</td>\n",
       "      <td>6.7</td>\n",
       "      <td>5.277778</td>\n",
       "    </tr>\n",
       "  </tbody>\n",
       "</table>\n",
       "</div>"
      ],
      "text/plain": [
       "Month                                              January February March  \\\n",
       "Manufacturing                                          3.5        4   5.8   \n",
       "Construction                                           5.7      6.8   8.5   \n",
       "Import/export trade and wholesale                      2.7      2.9   3.6   \n",
       "Retail, accommodation and food services                5.2      6.1   6.8   \n",
       "Transportation, storage, postal and courier ser...     2.5      2.7   3.3   \n",
       "Financing, insurance, real estate, professional...     2.1      2.2   2.8   \n",
       "Public administration, social and personal serv...     1.1      1.3     2   \n",
       "Other industries                                       2.9      3.3   3.9   \n",
       "Mean                                                   3.1      3.4   4.2   \n",
       "\n",
       "Month                                              April   May  June  July  \\\n",
       "Manufacturing                                        6.2     7   6.3   6.7   \n",
       "Construction                                          10  10.8  11.2  11.3   \n",
       "Import/export trade and wholesale                    4.2   4.7   5.2   5.1   \n",
       "Retail, accommodation and food services                9  10.6  10.7  10.8   \n",
       "Transportation, storage, postal and courier ser...   4.7   5.8     6   5.8   \n",
       "Financing, insurance, real estate, professional...   3.7     4   4.1   3.7   \n",
       "Public administration, social and personal serv...   2.8   3.3   3.3   3.1   \n",
       "Other industries                                     4.7   3.8   4.4   4.5   \n",
       "Mean                                                 5.2     6   6.2   6.3   \n",
       "\n",
       "Month                                              August September      Mean  \n",
       "Manufacturing                                         6.4       6.5  5.822222  \n",
       "Construction                                         11.1      10.9  9.588889  \n",
       "Import/export trade and wholesale                       5       5.2  4.288889  \n",
       "Retail, accommodation and food services              10.9      11.7  9.088889  \n",
       "Transportation, storage, postal and courier ser...    5.7       5.9  4.711111  \n",
       "Financing, insurance, real estate, professional...    3.8         4  3.377778  \n",
       "Public administration, social and personal serv...    3.2       3.2  2.588889  \n",
       "Other industries                                      5.2       3.8  4.055556  \n",
       "Mean                                                  6.4       6.7  5.277778  "
      ]
     },
     "execution_count": 39,
     "metadata": {},
     "output_type": "execute_result"
    }
   ],
   "source": [
    "unemp2020_df_T"
   ]
  },
  {
   "cell_type": "code",
   "execution_count": 40,
   "metadata": {},
   "outputs": [
    {
     "data": {
      "image/png": "[encoded data removed]",
      "text/plain": [
       "<Figure size 1296x720 with 1 Axes>"
      ]
     },
     "metadata": {
      "needs_background": "light"
     },
     "output_type": "display_data"
    }
   ],
   "source": [
    "bar2 = unemp2020_df_T.sort_values('Mean', ascending = False).plot.bar(figsize=(18,10))"
   ]
  },
  {
   "cell_type": "markdown",
   "metadata": {},
   "source": [
    "#### Underemployment Data"
   ]
  },
  {
   "cell_type": "code",
   "execution_count": 41,
   "metadata": {},
   "outputs": [],
   "source": [
    "#Transform the data using transpose\n",
    "\n",
    "under2020_df_T = under2020_df.T "
   ]
  },
  {
   "cell_type": "code",
   "execution_count": 42,
   "metadata": {},
   "outputs": [],
   "source": [
    "#changing column names for 2020\n",
    "\n",
    "under2020_df_T.columns = under2020_df_T.iloc[10]\n",
    "under2020_df_T.drop(under2020_df_T.index[10], inplace = True)"
   ]
  },
  {
   "cell_type": "code",
   "execution_count": 43,
   "metadata": {},
   "outputs": [],
   "source": [
    "under2020_df_T.drop(under2020_df_T.index[0], inplace = True)"
   ]
  },
  {
   "cell_type": "code",
   "execution_count": 44,
   "metadata": {},
   "outputs": [],
   "source": [
    "# compute for mean per industry \n",
    "\n",
    "under2020_df_T['Mean'] = under2020_df_T.mean(axis=1)"
   ]
  },
  {
   "cell_type": "code",
   "execution_count": 45,
   "metadata": {},
   "outputs": [
    {
     "data": {
      "text/html": [
       "<div>\n",
       "<style scoped>\n",
       "    .dataframe tbody tr th:only-of-type {\n",
       "        vertical-align: middle;\n",
       "    }\n",
       "\n",
       "    .dataframe tbody tr th {\n",
       "        vertical-align: top;\n",
       "    }\n",
       "\n",
       "    .dataframe thead th {\n",
       "        text-align: right;\n",
       "    }\n",
       "</style>\n",
       "<table border=\"1\" class=\"dataframe\">\n",
       "  <thead>\n",
       "    <tr style=\"text-align: right;\">\n",
       "      <th>Month</th>\n",
       "      <th>January</th>\n",
       "      <th>February</th>\n",
       "      <th>March</th>\n",
       "      <th>April</th>\n",
       "      <th>May</th>\n",
       "      <th>June</th>\n",
       "      <th>July</th>\n",
       "      <th>August</th>\n",
       "      <th>September</th>\n",
       "      <th>Mean</th>\n",
       "    </tr>\n",
       "  </thead>\n",
       "  <tbody>\n",
       "    <tr>\n",
       "      <th>Manufacturing</th>\n",
       "      <td>0</td>\n",
       "      <td>0</td>\n",
       "      <td>1</td>\n",
       "      <td>1.8</td>\n",
       "      <td>2.3</td>\n",
       "      <td>2.8</td>\n",
       "      <td>3.1</td>\n",
       "      <td>3.6</td>\n",
       "      <td>3.6</td>\n",
       "      <td>2.022222</td>\n",
       "    </tr>\n",
       "    <tr>\n",
       "      <th>Construction</th>\n",
       "      <td>5.7</td>\n",
       "      <td>6.2</td>\n",
       "      <td>7.1</td>\n",
       "      <td>8</td>\n",
       "      <td>8.2</td>\n",
       "      <td>8</td>\n",
       "      <td>8</td>\n",
       "      <td>8.1</td>\n",
       "      <td>8.3</td>\n",
       "      <td>7.511111</td>\n",
       "    </tr>\n",
       "    <tr>\n",
       "      <th>Import/export trade and wholesale</th>\n",
       "      <td>0.3</td>\n",
       "      <td>0.6</td>\n",
       "      <td>0.9</td>\n",
       "      <td>1.5</td>\n",
       "      <td>1.9</td>\n",
       "      <td>2.1</td>\n",
       "      <td>2.1</td>\n",
       "      <td>2.2</td>\n",
       "      <td>2.2</td>\n",
       "      <td>1.533333</td>\n",
       "    </tr>\n",
       "    <tr>\n",
       "      <th>Retail, accommodation and food services</th>\n",
       "      <td>1.6</td>\n",
       "      <td>2.5</td>\n",
       "      <td>3.9</td>\n",
       "      <td>5.9</td>\n",
       "      <td>6.3</td>\n",
       "      <td>5.9</td>\n",
       "      <td>5</td>\n",
       "      <td>5.9</td>\n",
       "      <td>6.3</td>\n",
       "      <td>4.811111</td>\n",
       "    </tr>\n",
       "    <tr>\n",
       "      <th>Transportation, storage, postal and courier services, information and communications</th>\n",
       "      <td>1.1</td>\n",
       "      <td>1.6</td>\n",
       "      <td>2.4</td>\n",
       "      <td>3.6</td>\n",
       "      <td>4.5</td>\n",
       "      <td>5.1</td>\n",
       "      <td>5.2</td>\n",
       "      <td>5.6</td>\n",
       "      <td>5.5</td>\n",
       "      <td>3.844444</td>\n",
       "    </tr>\n",
       "    <tr>\n",
       "      <th>Financing, insurance, real estate, professional and business services</th>\n",
       "      <td>0.5</td>\n",
       "      <td>0.6</td>\n",
       "      <td>0.8</td>\n",
       "      <td>1.4</td>\n",
       "      <td>1.6</td>\n",
       "      <td>2</td>\n",
       "      <td>1.9</td>\n",
       "      <td>2</td>\n",
       "      <td>2</td>\n",
       "      <td>1.422222</td>\n",
       "    </tr>\n",
       "    <tr>\n",
       "      <th>Public administration, social and personal services</th>\n",
       "      <td>0.6</td>\n",
       "      <td>0.8</td>\n",
       "      <td>1.3</td>\n",
       "      <td>2</td>\n",
       "      <td>2.4</td>\n",
       "      <td>2.8</td>\n",
       "      <td>2.6</td>\n",
       "      <td>2.9</td>\n",
       "      <td>2.7</td>\n",
       "      <td>2.011111</td>\n",
       "    </tr>\n",
       "    <tr>\n",
       "      <th>Other industries</th>\n",
       "      <td>0</td>\n",
       "      <td>0</td>\n",
       "      <td>0</td>\n",
       "      <td>0</td>\n",
       "      <td>0</td>\n",
       "      <td>0</td>\n",
       "      <td>0</td>\n",
       "      <td>2.9</td>\n",
       "      <td>2.6</td>\n",
       "      <td>0.611111</td>\n",
       "    </tr>\n",
       "    <tr>\n",
       "      <th>Mean</th>\n",
       "      <td>1.2</td>\n",
       "      <td>1.5</td>\n",
       "      <td>2.1</td>\n",
       "      <td>3.1</td>\n",
       "      <td>3.5</td>\n",
       "      <td>3.7</td>\n",
       "      <td>3.5</td>\n",
       "      <td>3.8</td>\n",
       "      <td>3.8</td>\n",
       "      <td>2.911111</td>\n",
       "    </tr>\n",
       "  </tbody>\n",
       "</table>\n",
       "</div>"
      ],
      "text/plain": [
       "Month                                              January February March  \\\n",
       "Manufacturing                                            0        0     1   \n",
       "Construction                                           5.7      6.2   7.1   \n",
       "Import/export trade and wholesale                      0.3      0.6   0.9   \n",
       "Retail, accommodation and food services                1.6      2.5   3.9   \n",
       "Transportation, storage, postal and courier ser...     1.1      1.6   2.4   \n",
       "Financing, insurance, real estate, professional...     0.5      0.6   0.8   \n",
       "Public administration, social and personal serv...     0.6      0.8   1.3   \n",
       "Other industries                                         0        0     0   \n",
       "Mean                                                   1.2      1.5   2.1   \n",
       "\n",
       "Month                                              April  May June July  \\\n",
       "Manufacturing                                        1.8  2.3  2.8  3.1   \n",
       "Construction                                           8  8.2    8    8   \n",
       "Import/export trade and wholesale                    1.5  1.9  2.1  2.1   \n",
       "Retail, accommodation and food services              5.9  6.3  5.9    5   \n",
       "Transportation, storage, postal and courier ser...   3.6  4.5  5.1  5.2   \n",
       "Financing, insurance, real estate, professional...   1.4  1.6    2  1.9   \n",
       "Public administration, social and personal serv...     2  2.4  2.8  2.6   \n",
       "Other industries                                       0    0    0    0   \n",
       "Mean                                                 3.1  3.5  3.7  3.5   \n",
       "\n",
       "Month                                              August September      Mean  \n",
       "Manufacturing                                         3.6       3.6  2.022222  \n",
       "Construction                                          8.1       8.3  7.511111  \n",
       "Import/export trade and wholesale                     2.2       2.2  1.533333  \n",
       "Retail, accommodation and food services               5.9       6.3  4.811111  \n",
       "Transportation, storage, postal and courier ser...    5.6       5.5  3.844444  \n",
       "Financing, insurance, real estate, professional...      2         2  1.422222  \n",
       "Public administration, social and personal serv...    2.9       2.7  2.011111  \n",
       "Other industries                                      2.9       2.6  0.611111  \n",
       "Mean                                                  3.8       3.8  2.911111  "
      ]
     },
     "execution_count": 45,
     "metadata": {},
     "output_type": "execute_result"
    }
   ],
   "source": [
    "under2020_df_T"
   ]
  },
  {
   "cell_type": "code",
   "execution_count": 46,
   "metadata": {},
   "outputs": [
    {
     "data": {
      "image/png": "[encoded data removed]",
      "text/plain": [
       "<Figure size 1296x720 with 1 Axes>"
      ]
     },
     "metadata": {
      "needs_background": "light"
     },
     "output_type": "display_data"
    }
   ],
   "source": [
    "bar2 = under2020_df_T.sort_values('Mean', ascending = False).plot.bar(figsize=(18,10))"
   ]
  },
  {
   "cell_type": "markdown",
   "metadata": {},
   "source": [
    "<a id=\"5\"></a> <br>\n",
    "### 5. Employing Clustering Algorithms \n",
    "1. K-Means Clustering\n",
    "2. Agglomerative Clustering"
   ]
  },
  {
   "cell_type": "markdown",
   "metadata": {},
   "source": [
    "<a id=\"5.1\"></a> <br>\n",
    "#### 1. K-Means Clustering"
   ]
  },
  {
   "cell_type": "code",
   "execution_count": 56,
   "metadata": {},
   "outputs": [],
   "source": [
    "# Functions for K-Means\n",
    "\n",
    "def KMeansElbow (r, data):\n",
    "    distortions = []\n",
    "    K = range(1,r)\n",
    "    for k in K:\n",
    "        kmeanModel = KMeans(n_clusters=k)\n",
    "        kmeanModel.fit(data)\n",
    "        distortions.append(kmeanModel.inertia_)\n",
    "    \n",
    "    plt.figure(figsize=(16,8))\n",
    "    plt.plot(K, distortions, 'bx-')\n",
    "    plt.grid(True)\n",
    "    plt.xlabel('k')\n",
    "    plt.ylabel('Distortion')\n",
    "    plt.title('The Elbow Method showing the optimal k')\n",
    "    plt.show()"
   ]
  },
  {
   "cell_type": "code",
   "execution_count": 66,
   "metadata": {},
   "outputs": [],
   "source": [
    "def KMeansSilhouette (r, data):\n",
    "    km_scores= []\n",
    "    km_silhouette = []\n",
    "    K = range (2,r)\n",
    "    for k in K:\n",
    "        km = KMeans(n_clusters=k, random_state=0).fit(data)\n",
    "        preds = km.predict(data)\n",
    "        km_scores.append(km.score(data))\n",
    "        silhouette = silhouette_score(data, preds)\n",
    "        km_silhouette.append(silhouette)\n",
    "    \n",
    "    plt.figure(figsize=(16,8))\n",
    "    plt.plot(K, km_silhouette, 'bx-')\n",
    "    plt.grid(True)\n",
    "    plt.xlabel('k')\n",
    "    plt.ylabel('Silhouette Score')\n",
    "    plt.title('The Silhouette Method showing the optimal k')\n",
    "    plt.show()"
   ]
  },
  {
   "cell_type": "code",
   "execution_count": 49,
   "metadata": {},
   "outputs": [],
   "source": [
    "def KMeansModel (n, data):\n",
    "    kmeanModel = KMeans(n_clusters=n)\n",
    "    kmeanModel.fit(data)\n",
    "    data['k_means']=kmeanModel.predict(data)"
   ]
  },
  {
   "cell_type": "code",
   "execution_count": 50,
   "metadata": {},
   "outputs": [],
   "source": [
    "def KMeansCluster (data, cond, column):\n",
    "    cluster = pd.DataFrame(data[data['k_means'] == cond ] [column])\n",
    "    return cluster"
   ]
  },
  {
   "cell_type": "code",
   "execution_count": 109,
   "metadata": {},
   "outputs": [],
   "source": [
    "from sklearn.decomposition import PCA\n",
    "import pylab as pl\n",
    "\n",
    "def KMeansScatterPlot (data, ctitle):\n",
    "    PCA_ = PCA(n_components = 2).fit(data)\n",
    "    PCA_2 = PCA_.transform(data)\n",
    "    pl.rcParams['figure.figsize'] = (8.0, 8.0)\n",
    "    for i in range(0, PCA_2.shape[0]):\n",
    "        if data.k_means[i] == 0:\n",
    "            CLUSTER_01 = pl.scatter(PCA_2[i,0], PCA_2[i,1], c ='r', marker = 'o', s = 120)\n",
    "        \n",
    "        elif data.k_means[i] == 1:\n",
    "            CLUSTER_02 = pl.scatter(PCA_2[i,0], PCA_2[i,1], c ='g', marker = 'o', s = 120)\n",
    "\n",
    "        elif data.k_means[i] == 2:\n",
    "            CLUSTER_03 = pl.scatter(PCA_2[i,0], PCA_2[i,1], c ='b', marker = 'o', s = 120)\n",
    "\n",
    "    pl.legend([CLUSTER_01, CLUSTER_02, CLUSTER_03],\n",
    "                  ['Cluster 01', 'Cluster 02', 'Cluster 03'])\n",
    "    pl.title(ctitle)\n",
    "        \n",
    "    pl.show()"
   ]
  },
  {
   "cell_type": "markdown",
   "metadata": {},
   "source": [
    "#### Clustering Unemployment Data 2020"
   ]
  },
  {
   "cell_type": "code",
   "execution_count": 51,
   "metadata": {},
   "outputs": [
    {
     "data": {
      "text/plain": [
       "(9, 10)"
      ]
     },
     "execution_count": 51,
     "metadata": {},
     "output_type": "execute_result"
    }
   ],
   "source": [
    "unemp2020_df_T.shape"
   ]
  },
  {
   "cell_type": "code",
   "execution_count": 57,
   "metadata": {},
   "outputs": [
    {
     "data": {
      "image/png": "[encoded data removed]",
      "text/plain": [
       "<Figure size 1152x576 with 1 Axes>"
      ]
     },
     "metadata": {
      "needs_background": "light"
     },
     "output_type": "display_data"
    }
   ],
   "source": [
    "KMeansElbow (9, unemp2020_df_T)"
   ]
  },
  {
   "cell_type": "code",
   "execution_count": 67,
   "metadata": {},
   "outputs": [
    {
     "data": {
      "image/png": "[encoded data removed]",
      "text/plain": [
       "<Figure size 1152x576 with 1 Axes>"
      ]
     },
     "metadata": {
      "needs_background": "light"
     },
     "output_type": "display_data"
    }
   ],
   "source": [
    "KMeansSilhouette (9, unemp2020_df_T)"
   ]
  },
  {
   "cell_type": "code",
   "execution_count": 101,
   "metadata": {},
   "outputs": [],
   "source": [
    "KMeansModel(3, unemp2020_df_T)"
   ]
  },
  {
   "cell_type": "code",
   "execution_count": 110,
   "metadata": {},
   "outputs": [
    {
     "data": {
      "image/png": "[encoded data removed]",
      "text/plain": [
       "<Figure size 576x576 with 1 Axes>"
      ]
     },
     "metadata": {
      "needs_background": "light"
     },
     "output_type": "display_data"
    }
   ],
   "source": [
    "KMeansScatterPlot (unemp2020_df_T, \"Unemployment data by Using K-Means\")"
   ]
  },
  {
   "cell_type": "code",
   "execution_count": 57,
   "metadata": {},
   "outputs": [
    {
     "data": {
      "text/html": [
       "<div>\n",
       "<style scoped>\n",
       "    .dataframe tbody tr th:only-of-type {\n",
       "        vertical-align: middle;\n",
       "    }\n",
       "\n",
       "    .dataframe tbody tr th {\n",
       "        vertical-align: top;\n",
       "    }\n",
       "\n",
       "    .dataframe thead th {\n",
       "        text-align: right;\n",
       "    }\n",
       "</style>\n",
       "<table border=\"1\" class=\"dataframe\">\n",
       "  <thead>\n",
       "    <tr style=\"text-align: right;\">\n",
       "      <th></th>\n",
       "      <th>Mean</th>\n",
       "    </tr>\n",
       "  </thead>\n",
       "  <tbody>\n",
       "    <tr>\n",
       "      <th>Manufacturing</th>\n",
       "      <td>5.822222</td>\n",
       "    </tr>\n",
       "    <tr>\n",
       "      <th>Transportation, storage, postal and courier services, information and communications</th>\n",
       "      <td>4.711111</td>\n",
       "    </tr>\n",
       "    <tr>\n",
       "      <th>Mean</th>\n",
       "      <td>5.277778</td>\n",
       "    </tr>\n",
       "  </tbody>\n",
       "</table>\n",
       "</div>"
      ],
      "text/plain": [
       "                                                        Mean\n",
       "Manufacturing                                       5.822222\n",
       "Transportation, storage, postal and courier ser...  4.711111\n",
       "Mean                                                5.277778"
      ]
     },
     "execution_count": 57,
     "metadata": {},
     "output_type": "execute_result"
    }
   ],
   "source": [
    "KMeansCluster (unemp2020_df_T, 0, 'Mean')"
   ]
  },
  {
   "cell_type": "code",
   "execution_count": 58,
   "metadata": {},
   "outputs": [
    {
     "data": {
      "text/html": [
       "<div>\n",
       "<style scoped>\n",
       "    .dataframe tbody tr th:only-of-type {\n",
       "        vertical-align: middle;\n",
       "    }\n",
       "\n",
       "    .dataframe tbody tr th {\n",
       "        vertical-align: top;\n",
       "    }\n",
       "\n",
       "    .dataframe thead th {\n",
       "        text-align: right;\n",
       "    }\n",
       "</style>\n",
       "<table border=\"1\" class=\"dataframe\">\n",
       "  <thead>\n",
       "    <tr style=\"text-align: right;\">\n",
       "      <th></th>\n",
       "      <th>Mean</th>\n",
       "    </tr>\n",
       "  </thead>\n",
       "  <tbody>\n",
       "    <tr>\n",
       "      <th>Construction</th>\n",
       "      <td>9.588889</td>\n",
       "    </tr>\n",
       "    <tr>\n",
       "      <th>Retail, accommodation and food services</th>\n",
       "      <td>9.088889</td>\n",
       "    </tr>\n",
       "  </tbody>\n",
       "</table>\n",
       "</div>"
      ],
      "text/plain": [
       "                                              Mean\n",
       "Construction                              9.588889\n",
       "Retail, accommodation and food services   9.088889"
      ]
     },
     "execution_count": 58,
     "metadata": {},
     "output_type": "execute_result"
    }
   ],
   "source": [
    "KMeansCluster (unemp2020_df_T, 1, 'Mean')"
   ]
  },
  {
   "cell_type": "code",
   "execution_count": 59,
   "metadata": {},
   "outputs": [
    {
     "data": {
      "text/html": [
       "<div>\n",
       "<style scoped>\n",
       "    .dataframe tbody tr th:only-of-type {\n",
       "        vertical-align: middle;\n",
       "    }\n",
       "\n",
       "    .dataframe tbody tr th {\n",
       "        vertical-align: top;\n",
       "    }\n",
       "\n",
       "    .dataframe thead th {\n",
       "        text-align: right;\n",
       "    }\n",
       "</style>\n",
       "<table border=\"1\" class=\"dataframe\">\n",
       "  <thead>\n",
       "    <tr style=\"text-align: right;\">\n",
       "      <th></th>\n",
       "      <th>Mean</th>\n",
       "    </tr>\n",
       "  </thead>\n",
       "  <tbody>\n",
       "    <tr>\n",
       "      <th>Import/export trade and wholesale</th>\n",
       "      <td>4.288889</td>\n",
       "    </tr>\n",
       "    <tr>\n",
       "      <th>Financing, insurance, real estate, professional and business services</th>\n",
       "      <td>3.377778</td>\n",
       "    </tr>\n",
       "    <tr>\n",
       "      <th>Public administration, social and personal services</th>\n",
       "      <td>2.588889</td>\n",
       "    </tr>\n",
       "    <tr>\n",
       "      <th>Other industries</th>\n",
       "      <td>4.055556</td>\n",
       "    </tr>\n",
       "  </tbody>\n",
       "</table>\n",
       "</div>"
      ],
      "text/plain": [
       "                                                        Mean\n",
       "Import/export trade and wholesale                   4.288889\n",
       "Financing, insurance, real estate, professional...  3.377778\n",
       "Public administration, social and personal serv...  2.588889\n",
       "Other industries                                    4.055556"
      ]
     },
     "execution_count": 59,
     "metadata": {},
     "output_type": "execute_result"
    }
   ],
   "source": [
    "KMeansCluster (unemp2020_df_T, 2, 'Mean')"
   ]
  },
  {
   "cell_type": "markdown",
   "metadata": {},
   "source": [
    "#### Clustering Underemployment 2020"
   ]
  },
  {
   "cell_type": "code",
   "execution_count": 60,
   "metadata": {},
   "outputs": [
    {
     "data": {
      "text/plain": [
       "(9, 10)"
      ]
     },
     "execution_count": 60,
     "metadata": {},
     "output_type": "execute_result"
    }
   ],
   "source": [
    "under2020_df_T.shape"
   ]
  },
  {
   "cell_type": "code",
   "execution_count": 86,
   "metadata": {},
   "outputs": [
    {
     "data": {
      "image/png": "[encoded data removed]",
      "text/plain": [
       "<Figure size 1152x576 with 1 Axes>"
      ]
     },
     "metadata": {
      "needs_background": "light"
     },
     "output_type": "display_data"
    }
   ],
   "source": [
    "KMeansElbow (9, under2020_df_T)"
   ]
  },
  {
   "cell_type": "code",
   "execution_count": 87,
   "metadata": {},
   "outputs": [
    {
     "data": {
      "image/png": "[encoded data removed]",
      "text/plain": [
       "<Figure size 1152x576 with 1 Axes>"
      ]
     },
     "metadata": {
      "needs_background": "light"
     },
     "output_type": "display_data"
    }
   ],
   "source": [
    "KMeansSilhouette (9, unemp2020_df_T)"
   ]
  },
  {
   "cell_type": "code",
   "execution_count": 105,
   "metadata": {},
   "outputs": [],
   "source": [
    "KMeansModel(3, under2020_df_T)"
   ]
  },
  {
   "cell_type": "code",
   "execution_count": 107,
   "metadata": {},
   "outputs": [
    {
     "data": {
      "image/png": "[encoded data removed]",
      "text/plain": [
       "<Figure size 576x576 with 1 Axes>"
      ]
     },
     "metadata": {
      "needs_background": "light"
     },
     "output_type": "display_data"
    }
   ],
   "source": [
    "KMeansScatterPlot (under2020_df_T, \"Underemployment data Using K-Means\")"
   ]
  },
  {
   "cell_type": "code",
   "execution_count": 63,
   "metadata": {},
   "outputs": [
    {
     "data": {
      "text/html": [
       "<div>\n",
       "<style scoped>\n",
       "    .dataframe tbody tr th:only-of-type {\n",
       "        vertical-align: middle;\n",
       "    }\n",
       "\n",
       "    .dataframe tbody tr th {\n",
       "        vertical-align: top;\n",
       "    }\n",
       "\n",
       "    .dataframe thead th {\n",
       "        text-align: right;\n",
       "    }\n",
       "</style>\n",
       "<table border=\"1\" class=\"dataframe\">\n",
       "  <thead>\n",
       "    <tr style=\"text-align: right;\">\n",
       "      <th></th>\n",
       "      <th>Mean</th>\n",
       "    </tr>\n",
       "  </thead>\n",
       "  <tbody>\n",
       "    <tr>\n",
       "      <th>Manufacturing</th>\n",
       "      <td>2.022222</td>\n",
       "    </tr>\n",
       "    <tr>\n",
       "      <th>Import/export trade and wholesale</th>\n",
       "      <td>1.533333</td>\n",
       "    </tr>\n",
       "    <tr>\n",
       "      <th>Financing, insurance, real estate, professional and business services</th>\n",
       "      <td>1.422222</td>\n",
       "    </tr>\n",
       "    <tr>\n",
       "      <th>Public administration, social and personal services</th>\n",
       "      <td>2.011111</td>\n",
       "    </tr>\n",
       "    <tr>\n",
       "      <th>Other industries</th>\n",
       "      <td>0.611111</td>\n",
       "    </tr>\n",
       "  </tbody>\n",
       "</table>\n",
       "</div>"
      ],
      "text/plain": [
       "                                                        Mean\n",
       "Manufacturing                                       2.022222\n",
       "Import/export trade and wholesale                   1.533333\n",
       "Financing, insurance, real estate, professional...  1.422222\n",
       "Public administration, social and personal serv...  2.011111\n",
       "Other industries                                    0.611111"
      ]
     },
     "execution_count": 63,
     "metadata": {},
     "output_type": "execute_result"
    }
   ],
   "source": [
    "KMeansCluster (under2020_df_T, 1, 'Mean')"
   ]
  },
  {
   "cell_type": "code",
   "execution_count": 64,
   "metadata": {},
   "outputs": [
    {
     "data": {
      "text/html": [
       "<div>\n",
       "<style scoped>\n",
       "    .dataframe tbody tr th:only-of-type {\n",
       "        vertical-align: middle;\n",
       "    }\n",
       "\n",
       "    .dataframe tbody tr th {\n",
       "        vertical-align: top;\n",
       "    }\n",
       "\n",
       "    .dataframe thead th {\n",
       "        text-align: right;\n",
       "    }\n",
       "</style>\n",
       "<table border=\"1\" class=\"dataframe\">\n",
       "  <thead>\n",
       "    <tr style=\"text-align: right;\">\n",
       "      <th></th>\n",
       "      <th>Mean</th>\n",
       "    </tr>\n",
       "  </thead>\n",
       "  <tbody>\n",
       "    <tr>\n",
       "      <th>Retail, accommodation and food services</th>\n",
       "      <td>4.811111</td>\n",
       "    </tr>\n",
       "    <tr>\n",
       "      <th>Transportation, storage, postal and courier services, information and communications</th>\n",
       "      <td>3.844444</td>\n",
       "    </tr>\n",
       "    <tr>\n",
       "      <th>Mean</th>\n",
       "      <td>2.911111</td>\n",
       "    </tr>\n",
       "  </tbody>\n",
       "</table>\n",
       "</div>"
      ],
      "text/plain": [
       "                                                        Mean\n",
       "Retail, accommodation and food services             4.811111\n",
       "Transportation, storage, postal and courier ser...  3.844444\n",
       "Mean                                                2.911111"
      ]
     },
     "execution_count": 64,
     "metadata": {},
     "output_type": "execute_result"
    }
   ],
   "source": [
    "KMeansCluster (under2020_df_T, 2, 'Mean')"
   ]
  },
  {
   "cell_type": "markdown",
   "metadata": {},
   "source": [
    "<a id=\"5.2\"></a> <br>\n",
    "#### 2. Agglomerative Clustering "
   ]
  },
  {
   "cell_type": "code",
   "execution_count": 83,
   "metadata": {},
   "outputs": [],
   "source": [
    "# functions of Hierarchical Clustering\n",
    "\n",
    "def AggloDendogram (data):\n",
    "    from scipy.cluster import hierarchy\n",
    "    Z = hierarchy.linkage(data, 'complete')\n",
    "    plt.figure()\n",
    "    plt.title('Hierarchical Clustering showing possible number of clusters')\n",
    "    dn = hierarchy.dendrogram(Z)\n",
    "    plt.show()"
   ]
  },
  {
   "cell_type": "code",
   "execution_count": 65,
   "metadata": {},
   "outputs": [],
   "source": [
    "def Agglomerative(data, n): \n",
    "    scaler = StandardScaler()\n",
    "    X = scaler.fit_transform(data)\n",
    "    model = AgglomerativeClustering(n_clusters=n, affinity = 'euclidean', linkage = 'ward')\n",
    "    labels = model.fit_predict(X)\n",
    "    return (labels)"
   ]
  },
  {
   "cell_type": "code",
   "execution_count": 66,
   "metadata": {},
   "outputs": [],
   "source": [
    "def AggloLabels(data, agglolabel):\n",
    "    data.insert((data.shape[1]),'agglomerative',agglolabel)"
   ]
  },
  {
   "cell_type": "code",
   "execution_count": 67,
   "metadata": {},
   "outputs": [],
   "source": [
    "def AggloCluster (data, cond, column):\n",
    "    cluster = pd.DataFrame(data[data['agglomerative'] == cond ] [column])\n",
    "    return cluster"
   ]
  },
  {
   "cell_type": "markdown",
   "metadata": {},
   "source": [
    "##### Clustering Unemployment  2020"
   ]
  },
  {
   "cell_type": "code",
   "execution_count": 84,
   "metadata": {},
   "outputs": [
    {
     "data": {
      "image/png": "[encoded data removed]",
      "text/plain": [
       "<Figure size 432x288 with 1 Axes>"
      ]
     },
     "metadata": {
      "needs_background": "light"
     },
     "output_type": "display_data"
    }
   ],
   "source": [
    "AggloDendogram (unemp2020_df_T)"
   ]
  },
  {
   "cell_type": "code",
   "execution_count": 68,
   "metadata": {},
   "outputs": [],
   "source": [
    "agglolabels = Agglomerative(unemp2020_df_T, 3)"
   ]
  },
  {
   "cell_type": "code",
   "execution_count": 69,
   "metadata": {},
   "outputs": [],
   "source": [
    "AggloLabels(unemp2020_df_T, agglolabels)"
   ]
  },
  {
   "cell_type": "code",
   "execution_count": 70,
   "metadata": {},
   "outputs": [
    {
     "data": {
      "text/html": [
       "<div>\n",
       "<style scoped>\n",
       "    .dataframe tbody tr th:only-of-type {\n",
       "        vertical-align: middle;\n",
       "    }\n",
       "\n",
       "    .dataframe tbody tr th {\n",
       "        vertical-align: top;\n",
       "    }\n",
       "\n",
       "    .dataframe thead th {\n",
       "        text-align: right;\n",
       "    }\n",
       "</style>\n",
       "<table border=\"1\" class=\"dataframe\">\n",
       "  <thead>\n",
       "    <tr style=\"text-align: right;\">\n",
       "      <th>Month</th>\n",
       "      <th>January</th>\n",
       "      <th>February</th>\n",
       "      <th>March</th>\n",
       "      <th>April</th>\n",
       "      <th>May</th>\n",
       "      <th>June</th>\n",
       "      <th>July</th>\n",
       "      <th>August</th>\n",
       "      <th>September</th>\n",
       "      <th>Mean</th>\n",
       "      <th>k_means</th>\n",
       "      <th>agglomerative</th>\n",
       "    </tr>\n",
       "  </thead>\n",
       "  <tbody>\n",
       "    <tr>\n",
       "      <th>Manufacturing</th>\n",
       "      <td>3.5</td>\n",
       "      <td>4</td>\n",
       "      <td>5.8</td>\n",
       "      <td>6.2</td>\n",
       "      <td>7</td>\n",
       "      <td>6.3</td>\n",
       "      <td>6.7</td>\n",
       "      <td>6.4</td>\n",
       "      <td>6.5</td>\n",
       "      <td>5.822222</td>\n",
       "      <td>0</td>\n",
       "      <td>2</td>\n",
       "    </tr>\n",
       "    <tr>\n",
       "      <th>Construction</th>\n",
       "      <td>5.7</td>\n",
       "      <td>6.8</td>\n",
       "      <td>8.5</td>\n",
       "      <td>10</td>\n",
       "      <td>10.8</td>\n",
       "      <td>11.2</td>\n",
       "      <td>11.3</td>\n",
       "      <td>11.1</td>\n",
       "      <td>10.9</td>\n",
       "      <td>9.588889</td>\n",
       "      <td>1</td>\n",
       "      <td>1</td>\n",
       "    </tr>\n",
       "    <tr>\n",
       "      <th>Import/export trade and wholesale</th>\n",
       "      <td>2.7</td>\n",
       "      <td>2.9</td>\n",
       "      <td>3.6</td>\n",
       "      <td>4.2</td>\n",
       "      <td>4.7</td>\n",
       "      <td>5.2</td>\n",
       "      <td>5.1</td>\n",
       "      <td>5</td>\n",
       "      <td>5.2</td>\n",
       "      <td>4.288889</td>\n",
       "      <td>2</td>\n",
       "      <td>0</td>\n",
       "    </tr>\n",
       "    <tr>\n",
       "      <th>Retail, accommodation and food services</th>\n",
       "      <td>5.2</td>\n",
       "      <td>6.1</td>\n",
       "      <td>6.8</td>\n",
       "      <td>9</td>\n",
       "      <td>10.6</td>\n",
       "      <td>10.7</td>\n",
       "      <td>10.8</td>\n",
       "      <td>10.9</td>\n",
       "      <td>11.7</td>\n",
       "      <td>9.088889</td>\n",
       "      <td>1</td>\n",
       "      <td>1</td>\n",
       "    </tr>\n",
       "    <tr>\n",
       "      <th>Transportation, storage, postal and courier services, information and communications</th>\n",
       "      <td>2.5</td>\n",
       "      <td>2.7</td>\n",
       "      <td>3.3</td>\n",
       "      <td>4.7</td>\n",
       "      <td>5.8</td>\n",
       "      <td>6</td>\n",
       "      <td>5.8</td>\n",
       "      <td>5.7</td>\n",
       "      <td>5.9</td>\n",
       "      <td>4.711111</td>\n",
       "      <td>0</td>\n",
       "      <td>2</td>\n",
       "    </tr>\n",
       "  </tbody>\n",
       "</table>\n",
       "</div>"
      ],
      "text/plain": [
       "Month                                              January February March  \\\n",
       "Manufacturing                                          3.5        4   5.8   \n",
       "Construction                                           5.7      6.8   8.5   \n",
       "Import/export trade and wholesale                      2.7      2.9   3.6   \n",
       "Retail, accommodation and food services                5.2      6.1   6.8   \n",
       "Transportation, storage, postal and courier ser...     2.5      2.7   3.3   \n",
       "\n",
       "Month                                              April   May  June  July  \\\n",
       "Manufacturing                                        6.2     7   6.3   6.7   \n",
       "Construction                                          10  10.8  11.2  11.3   \n",
       "Import/export trade and wholesale                    4.2   4.7   5.2   5.1   \n",
       "Retail, accommodation and food services                9  10.6  10.7  10.8   \n",
       "Transportation, storage, postal and courier ser...   4.7   5.8     6   5.8   \n",
       "\n",
       "Month                                              August September      Mean  \\\n",
       "Manufacturing                                         6.4       6.5  5.822222   \n",
       "Construction                                         11.1      10.9  9.588889   \n",
       "Import/export trade and wholesale                       5       5.2  4.288889   \n",
       "Retail, accommodation and food services              10.9      11.7  9.088889   \n",
       "Transportation, storage, postal and courier ser...    5.7       5.9  4.711111   \n",
       "\n",
       "Month                                               k_means  agglomerative  \n",
       "Manufacturing                                             0              2  \n",
       "Construction                                              1              1  \n",
       "Import/export trade and wholesale                         2              0  \n",
       "Retail, accommodation and food services                   1              1  \n",
       "Transportation, storage, postal and courier ser...        0              2  "
      ]
     },
     "execution_count": 70,
     "metadata": {},
     "output_type": "execute_result"
    }
   ],
   "source": [
    "unemp2020_df_T.head()"
   ]
  },
  {
   "cell_type": "code",
   "execution_count": 71,
   "metadata": {},
   "outputs": [
    {
     "data": {
      "text/html": [
       "<div>\n",
       "<style scoped>\n",
       "    .dataframe tbody tr th:only-of-type {\n",
       "        vertical-align: middle;\n",
       "    }\n",
       "\n",
       "    .dataframe tbody tr th {\n",
       "        vertical-align: top;\n",
       "    }\n",
       "\n",
       "    .dataframe thead th {\n",
       "        text-align: right;\n",
       "    }\n",
       "</style>\n",
       "<table border=\"1\" class=\"dataframe\">\n",
       "  <thead>\n",
       "    <tr style=\"text-align: right;\">\n",
       "      <th></th>\n",
       "      <th>Mean</th>\n",
       "    </tr>\n",
       "  </thead>\n",
       "  <tbody>\n",
       "    <tr>\n",
       "      <th>Import/export trade and wholesale</th>\n",
       "      <td>4.288889</td>\n",
       "    </tr>\n",
       "    <tr>\n",
       "      <th>Financing, insurance, real estate, professional and business services</th>\n",
       "      <td>3.377778</td>\n",
       "    </tr>\n",
       "    <tr>\n",
       "      <th>Public administration, social and personal services</th>\n",
       "      <td>2.588889</td>\n",
       "    </tr>\n",
       "    <tr>\n",
       "      <th>Other industries</th>\n",
       "      <td>4.055556</td>\n",
       "    </tr>\n",
       "  </tbody>\n",
       "</table>\n",
       "</div>"
      ],
      "text/plain": [
       "                                                        Mean\n",
       "Import/export trade and wholesale                   4.288889\n",
       "Financing, insurance, real estate, professional...  3.377778\n",
       "Public administration, social and personal serv...  2.588889\n",
       "Other industries                                    4.055556"
      ]
     },
     "execution_count": 71,
     "metadata": {},
     "output_type": "execute_result"
    }
   ],
   "source": [
    "AggloCluster (unemp2020_df_T, 0, 'Mean')"
   ]
  },
  {
   "cell_type": "code",
   "execution_count": 72,
   "metadata": {},
   "outputs": [
    {
     "data": {
      "text/html": [
       "<div>\n",
       "<style scoped>\n",
       "    .dataframe tbody tr th:only-of-type {\n",
       "        vertical-align: middle;\n",
       "    }\n",
       "\n",
       "    .dataframe tbody tr th {\n",
       "        vertical-align: top;\n",
       "    }\n",
       "\n",
       "    .dataframe thead th {\n",
       "        text-align: right;\n",
       "    }\n",
       "</style>\n",
       "<table border=\"1\" class=\"dataframe\">\n",
       "  <thead>\n",
       "    <tr style=\"text-align: right;\">\n",
       "      <th></th>\n",
       "      <th>Mean</th>\n",
       "    </tr>\n",
       "  </thead>\n",
       "  <tbody>\n",
       "    <tr>\n",
       "      <th>Construction</th>\n",
       "      <td>9.588889</td>\n",
       "    </tr>\n",
       "    <tr>\n",
       "      <th>Retail, accommodation and food services</th>\n",
       "      <td>9.088889</td>\n",
       "    </tr>\n",
       "  </tbody>\n",
       "</table>\n",
       "</div>"
      ],
      "text/plain": [
       "                                              Mean\n",
       "Construction                              9.588889\n",
       "Retail, accommodation and food services   9.088889"
      ]
     },
     "execution_count": 72,
     "metadata": {},
     "output_type": "execute_result"
    }
   ],
   "source": [
    "AggloCluster (unemp2020_df_T, 1, 'Mean')"
   ]
  },
  {
   "cell_type": "code",
   "execution_count": 73,
   "metadata": {},
   "outputs": [
    {
     "data": {
      "text/html": [
       "<div>\n",
       "<style scoped>\n",
       "    .dataframe tbody tr th:only-of-type {\n",
       "        vertical-align: middle;\n",
       "    }\n",
       "\n",
       "    .dataframe tbody tr th {\n",
       "        vertical-align: top;\n",
       "    }\n",
       "\n",
       "    .dataframe thead th {\n",
       "        text-align: right;\n",
       "    }\n",
       "</style>\n",
       "<table border=\"1\" class=\"dataframe\">\n",
       "  <thead>\n",
       "    <tr style=\"text-align: right;\">\n",
       "      <th></th>\n",
       "      <th>Mean</th>\n",
       "    </tr>\n",
       "  </thead>\n",
       "  <tbody>\n",
       "    <tr>\n",
       "      <th>Manufacturing</th>\n",
       "      <td>5.822222</td>\n",
       "    </tr>\n",
       "    <tr>\n",
       "      <th>Transportation, storage, postal and courier services, information and communications</th>\n",
       "      <td>4.711111</td>\n",
       "    </tr>\n",
       "    <tr>\n",
       "      <th>Mean</th>\n",
       "      <td>5.277778</td>\n",
       "    </tr>\n",
       "  </tbody>\n",
       "</table>\n",
       "</div>"
      ],
      "text/plain": [
       "                                                        Mean\n",
       "Manufacturing                                       5.822222\n",
       "Transportation, storage, postal and courier ser...  4.711111\n",
       "Mean                                                5.277778"
      ]
     },
     "execution_count": 73,
     "metadata": {},
     "output_type": "execute_result"
    }
   ],
   "source": [
    "AggloCluster (unemp2020_df_T, 2, 'Mean')"
   ]
  },
  {
   "cell_type": "markdown",
   "metadata": {},
   "source": [
    "##### Clustering Underemployment Data 2020"
   ]
  },
  {
   "cell_type": "code",
   "execution_count": 85,
   "metadata": {},
   "outputs": [
    {
     "data": {
      "image/png": "[encoded data removed]",
      "text/plain": [
       "<Figure size 432x288 with 1 Axes>"
      ]
     },
     "metadata": {
      "needs_background": "light"
     },
     "output_type": "display_data"
    }
   ],
   "source": [
    "AggloDendogram (under2020_df_T)"
   ]
  },
  {
   "cell_type": "code",
   "execution_count": 76,
   "metadata": {},
   "outputs": [],
   "source": [
    "agglolabels = Agglomerative(under2020_df_T, 3)"
   ]
  },
  {
   "cell_type": "code",
   "execution_count": 77,
   "metadata": {},
   "outputs": [],
   "source": [
    "AggloLabels(under2020_df_T, agglolabels)"
   ]
  },
  {
   "cell_type": "code",
   "execution_count": 78,
   "metadata": {},
   "outputs": [
    {
     "data": {
      "text/html": [
       "<div>\n",
       "<style scoped>\n",
       "    .dataframe tbody tr th:only-of-type {\n",
       "        vertical-align: middle;\n",
       "    }\n",
       "\n",
       "    .dataframe tbody tr th {\n",
       "        vertical-align: top;\n",
       "    }\n",
       "\n",
       "    .dataframe thead th {\n",
       "        text-align: right;\n",
       "    }\n",
       "</style>\n",
       "<table border=\"1\" class=\"dataframe\">\n",
       "  <thead>\n",
       "    <tr style=\"text-align: right;\">\n",
       "      <th>Month</th>\n",
       "      <th>January</th>\n",
       "      <th>February</th>\n",
       "      <th>March</th>\n",
       "      <th>April</th>\n",
       "      <th>May</th>\n",
       "      <th>June</th>\n",
       "      <th>July</th>\n",
       "      <th>August</th>\n",
       "      <th>September</th>\n",
       "      <th>Mean</th>\n",
       "      <th>k_means</th>\n",
       "      <th>agglomerative</th>\n",
       "    </tr>\n",
       "  </thead>\n",
       "  <tbody>\n",
       "    <tr>\n",
       "      <th>Manufacturing</th>\n",
       "      <td>0</td>\n",
       "      <td>0</td>\n",
       "      <td>1</td>\n",
       "      <td>1.8</td>\n",
       "      <td>2.3</td>\n",
       "      <td>2.8</td>\n",
       "      <td>3.1</td>\n",
       "      <td>3.6</td>\n",
       "      <td>3.6</td>\n",
       "      <td>2.022222</td>\n",
       "      <td>1</td>\n",
       "      <td>2</td>\n",
       "    </tr>\n",
       "    <tr>\n",
       "      <th>Construction</th>\n",
       "      <td>5.7</td>\n",
       "      <td>6.2</td>\n",
       "      <td>7.1</td>\n",
       "      <td>8</td>\n",
       "      <td>8.2</td>\n",
       "      <td>8</td>\n",
       "      <td>8</td>\n",
       "      <td>8.1</td>\n",
       "      <td>8.3</td>\n",
       "      <td>7.511111</td>\n",
       "      <td>0</td>\n",
       "      <td>1</td>\n",
       "    </tr>\n",
       "    <tr>\n",
       "      <th>Import/export trade and wholesale</th>\n",
       "      <td>0.3</td>\n",
       "      <td>0.6</td>\n",
       "      <td>0.9</td>\n",
       "      <td>1.5</td>\n",
       "      <td>1.9</td>\n",
       "      <td>2.1</td>\n",
       "      <td>2.1</td>\n",
       "      <td>2.2</td>\n",
       "      <td>2.2</td>\n",
       "      <td>1.533333</td>\n",
       "      <td>1</td>\n",
       "      <td>2</td>\n",
       "    </tr>\n",
       "    <tr>\n",
       "      <th>Retail, accommodation and food services</th>\n",
       "      <td>1.6</td>\n",
       "      <td>2.5</td>\n",
       "      <td>3.9</td>\n",
       "      <td>5.9</td>\n",
       "      <td>6.3</td>\n",
       "      <td>5.9</td>\n",
       "      <td>5</td>\n",
       "      <td>5.9</td>\n",
       "      <td>6.3</td>\n",
       "      <td>4.811111</td>\n",
       "      <td>2</td>\n",
       "      <td>0</td>\n",
       "    </tr>\n",
       "    <tr>\n",
       "      <th>Transportation, storage, postal and courier services, information and communications</th>\n",
       "      <td>1.1</td>\n",
       "      <td>1.6</td>\n",
       "      <td>2.4</td>\n",
       "      <td>3.6</td>\n",
       "      <td>4.5</td>\n",
       "      <td>5.1</td>\n",
       "      <td>5.2</td>\n",
       "      <td>5.6</td>\n",
       "      <td>5.5</td>\n",
       "      <td>3.844444</td>\n",
       "      <td>2</td>\n",
       "      <td>0</td>\n",
       "    </tr>\n",
       "  </tbody>\n",
       "</table>\n",
       "</div>"
      ],
      "text/plain": [
       "Month                                              January February March  \\\n",
       "Manufacturing                                            0        0     1   \n",
       "Construction                                           5.7      6.2   7.1   \n",
       "Import/export trade and wholesale                      0.3      0.6   0.9   \n",
       "Retail, accommodation and food services                1.6      2.5   3.9   \n",
       "Transportation, storage, postal and courier ser...     1.1      1.6   2.4   \n",
       "\n",
       "Month                                              April  May June July  \\\n",
       "Manufacturing                                        1.8  2.3  2.8  3.1   \n",
       "Construction                                           8  8.2    8    8   \n",
       "Import/export trade and wholesale                    1.5  1.9  2.1  2.1   \n",
       "Retail, accommodation and food services              5.9  6.3  5.9    5   \n",
       "Transportation, storage, postal and courier ser...   3.6  4.5  5.1  5.2   \n",
       "\n",
       "Month                                              August September      Mean  \\\n",
       "Manufacturing                                         3.6       3.6  2.022222   \n",
       "Construction                                          8.1       8.3  7.511111   \n",
       "Import/export trade and wholesale                     2.2       2.2  1.533333   \n",
       "Retail, accommodation and food services               5.9       6.3  4.811111   \n",
       "Transportation, storage, postal and courier ser...    5.6       5.5  3.844444   \n",
       "\n",
       "Month                                               k_means  agglomerative  \n",
       "Manufacturing                                             1              2  \n",
       "Construction                                              0              1  \n",
       "Import/export trade and wholesale                         1              2  \n",
       "Retail, accommodation and food services                   2              0  \n",
       "Transportation, storage, postal and courier ser...        2              0  "
      ]
     },
     "execution_count": 78,
     "metadata": {},
     "output_type": "execute_result"
    }
   ],
   "source": [
    "under2020_df_T.head()"
   ]
  },
  {
   "cell_type": "code",
   "execution_count": 80,
   "metadata": {},
   "outputs": [
    {
     "data": {
      "text/html": [
       "<div>\n",
       "<style scoped>\n",
       "    .dataframe tbody tr th:only-of-type {\n",
       "        vertical-align: middle;\n",
       "    }\n",
       "\n",
       "    .dataframe tbody tr th {\n",
       "        vertical-align: top;\n",
       "    }\n",
       "\n",
       "    .dataframe thead th {\n",
       "        text-align: right;\n",
       "    }\n",
       "</style>\n",
       "<table border=\"1\" class=\"dataframe\">\n",
       "  <thead>\n",
       "    <tr style=\"text-align: right;\">\n",
       "      <th></th>\n",
       "      <th>Mean</th>\n",
       "    </tr>\n",
       "  </thead>\n",
       "  <tbody>\n",
       "    <tr>\n",
       "      <th>Retail, accommodation and food services</th>\n",
       "      <td>4.811111</td>\n",
       "    </tr>\n",
       "    <tr>\n",
       "      <th>Transportation, storage, postal and courier services, information and communications</th>\n",
       "      <td>3.844444</td>\n",
       "    </tr>\n",
       "    <tr>\n",
       "      <th>Mean</th>\n",
       "      <td>2.911111</td>\n",
       "    </tr>\n",
       "  </tbody>\n",
       "</table>\n",
       "</div>"
      ],
      "text/plain": [
       "                                                        Mean\n",
       "Retail, accommodation and food services             4.811111\n",
       "Transportation, storage, postal and courier ser...  3.844444\n",
       "Mean                                                2.911111"
      ]
     },
     "execution_count": 80,
     "metadata": {},
     "output_type": "execute_result"
    }
   ],
   "source": [
    "AggloCluster (under2020_df_T, 0, 'Mean')"
   ]
  },
  {
   "cell_type": "code",
   "execution_count": 81,
   "metadata": {},
   "outputs": [
    {
     "data": {
      "text/html": [
       "<div>\n",
       "<style scoped>\n",
       "    .dataframe tbody tr th:only-of-type {\n",
       "        vertical-align: middle;\n",
       "    }\n",
       "\n",
       "    .dataframe tbody tr th {\n",
       "        vertical-align: top;\n",
       "    }\n",
       "\n",
       "    .dataframe thead th {\n",
       "        text-align: right;\n",
       "    }\n",
       "</style>\n",
       "<table border=\"1\" class=\"dataframe\">\n",
       "  <thead>\n",
       "    <tr style=\"text-align: right;\">\n",
       "      <th></th>\n",
       "      <th>Mean</th>\n",
       "    </tr>\n",
       "  </thead>\n",
       "  <tbody>\n",
       "    <tr>\n",
       "      <th>Construction</th>\n",
       "      <td>7.511111</td>\n",
       "    </tr>\n",
       "  </tbody>\n",
       "</table>\n",
       "</div>"
      ],
      "text/plain": [
       "                  Mean\n",
       "Construction  7.511111"
      ]
     },
     "execution_count": 81,
     "metadata": {},
     "output_type": "execute_result"
    }
   ],
   "source": [
    "AggloCluster (under2020_df_T, 1, 'Mean')"
   ]
  },
  {
   "cell_type": "code",
   "execution_count": 82,
   "metadata": {},
   "outputs": [
    {
     "data": {
      "text/html": [
       "<div>\n",
       "<style scoped>\n",
       "    .dataframe tbody tr th:only-of-type {\n",
       "        vertical-align: middle;\n",
       "    }\n",
       "\n",
       "    .dataframe tbody tr th {\n",
       "        vertical-align: top;\n",
       "    }\n",
       "\n",
       "    .dataframe thead th {\n",
       "        text-align: right;\n",
       "    }\n",
       "</style>\n",
       "<table border=\"1\" class=\"dataframe\">\n",
       "  <thead>\n",
       "    <tr style=\"text-align: right;\">\n",
       "      <th></th>\n",
       "      <th>Mean</th>\n",
       "    </tr>\n",
       "  </thead>\n",
       "  <tbody>\n",
       "    <tr>\n",
       "      <th>Manufacturing</th>\n",
       "      <td>2.022222</td>\n",
       "    </tr>\n",
       "    <tr>\n",
       "      <th>Import/export trade and wholesale</th>\n",
       "      <td>1.533333</td>\n",
       "    </tr>\n",
       "    <tr>\n",
       "      <th>Financing, insurance, real estate, professional and business services</th>\n",
       "      <td>1.422222</td>\n",
       "    </tr>\n",
       "    <tr>\n",
       "      <th>Public administration, social and personal services</th>\n",
       "      <td>2.011111</td>\n",
       "    </tr>\n",
       "    <tr>\n",
       "      <th>Other industries</th>\n",
       "      <td>0.611111</td>\n",
       "    </tr>\n",
       "  </tbody>\n",
       "</table>\n",
       "</div>"
      ],
      "text/plain": [
       "                                                        Mean\n",
       "Manufacturing                                       2.022222\n",
       "Import/export trade and wholesale                   1.533333\n",
       "Financing, insurance, real estate, professional...  1.422222\n",
       "Public administration, social and personal serv...  2.011111\n",
       "Other industries                                    0.611111"
      ]
     },
     "execution_count": 82,
     "metadata": {},
     "output_type": "execute_result"
    }
   ],
   "source": [
    "AggloCluster (under2020_df_T, 2, 'Mean')"
   ]
  },
  {
   "cell_type": "markdown",
   "metadata": {},
   "source": [
    "<a id=\"6\"></a> <br>\n",
    "### 6. Findings "
   ]
  },
  {
   "cell_type": "markdown",
   "metadata": {},
   "source": [
    "Based on the results of the analysis, the highly affected industry groups are the following: \n",
    "1.\tOn Unemployment data set: Construction and Retail, accommodation and food services\n",
    "2.\tOn Underemployment data set: Construction\n",
    "3.\tOn both Unemployment and Underemployment data sets: Construction \n",
    "\n",
    "While, the least affected industry groups are the following: \n",
    "1.\tOn Unemployment data set: Public administration, social and personal services; and Financing, insurance, real estate, and professional and business services.\n",
    "2.\tOn Underemployment data set: Financing, insurance, real estate, and professional and business services; and Import/export trade and wholesale\n",
    "3.\tOn both Unemployment and Underemployment data sets:  Financing, insurance, real estate, and professional and business services.\n"
   ]
  },
  {
   "cell_type": "code",
   "execution_count": null,
   "metadata": {},
   "outputs": [],
   "source": []
  }
 ],
 "metadata": {
  "kernelspec": {
   "display_name": "Python 3",
   "language": "python",
   "name": "python3"
  },
  "language_info": {
   "codemirror_mode": {
    "name": "ipython",
    "version": 3
   },
   "file_extension": ".py",
   "mimetype": "text/x-python",
   "name": "python",
   "nbconvert_exporter": "python",
   "pygments_lexer": "ipython3",
   "version": "3.7.6"
  }
 },
 "nbformat": 4,
 "nbformat_minor": 4
}
